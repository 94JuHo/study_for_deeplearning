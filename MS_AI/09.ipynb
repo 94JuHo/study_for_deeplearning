{
  "nbformat": 4,
  "nbformat_minor": 0,
  "metadata": {
    "kernelspec": {
      "display_name": "Python 3",
      "language": "python",
      "name": "python3"
    },
    "language_info": {
      "codemirror_mode": {
        "name": "ipython",
        "version": 3
      },
      "file_extension": ".py",
      "mimetype": "text/x-python",
      "name": "python",
      "nbconvert_exporter": "python",
      "pygments_lexer": "ipython3",
      "version": "3.7.4"
    },
    "colab": {
      "name": "09.ipynb",
      "provenance": [],
      "collapsed_sections": [],
      "include_colab_link": true
    }
  },
  "cells": [
    {
      "cell_type": "markdown",
      "metadata": {
        "id": "view-in-github",
        "colab_type": "text"
      },
      "source": [
        "<a href=\"https://colab.research.google.com/github/94JuHo/study_for_deeplearning/blob/master/MS_AI/09.ipynb\" target=\"_parent\"><img src=\"https://colab.research.google.com/assets/colab-badge.svg\" alt=\"Open In Colab\"/></a>"
      ]
    },
    {
      "cell_type": "code",
      "metadata": {
        "id": "vop3nVM3H9_Y",
        "colab_type": "code",
        "outputId": "d03a0319-2aa9-4329-b268-f8fd0e95c966",
        "colab": {
          "base_uri": "https://localhost:8080/",
          "height": 34
        }
      },
      "source": [
        "def f(x, y):\n",
        "    return x + y\n",
        "\n",
        "print(f(1, 4))\n"
      ],
      "execution_count": 0,
      "outputs": [
        {
          "output_type": "stream",
          "text": [
            "5\n"
          ],
          "name": "stdout"
        }
      ]
    },
    {
      "cell_type": "code",
      "metadata": {
        "id": "4A4ak6pdH9_f",
        "colab_type": "code",
        "outputId": "060145ba-6b10-4524-c119-395b77381d45",
        "colab": {
          "base_uri": "https://localhost:8080/",
          "height": 51
        }
      },
      "source": [
        "f = lambda x, y: x + y\n",
        "print(f(1, 4))\n"
      ],
      "execution_count": 0,
      "outputs": [
        {
          "output_type": "stream",
          "text": [
            "5\n",
            "5\n"
          ],
          "name": "stdout"
        }
      ]
    },
    {
      "cell_type": "code",
      "metadata": {
        "id": "LJsRMMqRH9_i",
        "colab_type": "code",
        "outputId": "ba46a51f-cf6d-45c3-d894-34fad2ca6b5b",
        "colab": {
          "base_uri": "https://localhost:8080/",
          "height": 136
        }
      },
      "source": [
        "f = lambda x, y: x+y\n",
        "print(f(1, 4))\n",
        "f = lambda x: x**2\n",
        "print(f(3))\n",
        "f = lambda x: x/2\n",
        "print(f(3))\n",
        "f(3.5)"
      ],
      "execution_count": 0,
      "outputs": [
        {
          "output_type": "stream",
          "text": [
            "5\n",
            "9\n",
            "1.5\n"
          ],
          "name": "stdout"
        },
        {
          "output_type": "execute_result",
          "data": {
            "text/plain": [
              "1.75"
            ]
          },
          "metadata": {
            "tags": []
          },
          "execution_count": 2
        },
        {
          "output_type": "stream",
          "text": [
            "5\n",
            "9\n",
            "1.5\n"
          ],
          "name": "stdout"
        },
        {
          "output_type": "execute_result",
          "data": {
            "text/plain": [
              "1.75"
            ]
          },
          "metadata": {
            "tags": []
          },
          "execution_count": 21
        }
      ]
    },
    {
      "cell_type": "code",
      "metadata": {
        "id": "FZRxF2bQH9_l",
        "colab_type": "code",
        "outputId": "968bee0e-f552-4f4c-a41b-9bd14cf60df8",
        "colab": {
          "base_uri": "https://localhost:8080/",
          "height": 51
        }
      },
      "source": [
        "ex = [1,2,3,4,5]\n",
        "f = lambda x: x**2\n",
        "print(list(map(f, ex)))\n"
      ],
      "execution_count": 0,
      "outputs": [
        {
          "output_type": "stream",
          "text": [
            "[1, 4, 9, 16, 25]\n",
            "[1, 4, 9, 16, 25]\n"
          ],
          "name": "stdout"
        }
      ]
    },
    {
      "cell_type": "code",
      "metadata": {
        "id": "DKw7LWEBH9_o",
        "colab_type": "code",
        "outputId": "5cd3bd31-b8a2-467a-bbe2-53024ab066f4",
        "colab": {
          "base_uri": "https://localhost:8080/",
          "height": 187
        }
      },
      "source": [
        "ex = [1,2,3,4,5]\n",
        "f = lambda x:x **2\n",
        "for value in map(f, ex):\n",
        "    print(value)"
      ],
      "execution_count": 0,
      "outputs": [
        {
          "output_type": "stream",
          "text": [
            "1\n",
            "4\n",
            "9\n",
            "16\n",
            "25\n",
            "1\n",
            "4\n",
            "9\n",
            "16\n",
            "25\n"
          ],
          "name": "stdout"
        }
      ]
    },
    {
      "cell_type": "code",
      "metadata": {
        "id": "xyVkbQ3CH9_q",
        "colab_type": "code",
        "outputId": "24f0fed5-16c7-4f70-fce0-f5c50a2fe125",
        "colab": {
          "base_uri": "https://localhost:8080/",
          "height": 34
        }
      },
      "source": [
        "ex = [1,2,3,4,5]\n",
        "[x ** 2 for x in ex]"
      ],
      "execution_count": 0,
      "outputs": [
        {
          "output_type": "execute_result",
          "data": {
            "text/plain": [
              "[1, 4, 9, 16, 25]"
            ]
          },
          "metadata": {
            "tags": []
          },
          "execution_count": 5
        },
        {
          "output_type": "execute_result",
          "data": {
            "text/plain": [
              "[1, 4, 9, 16, 25]"
            ]
          },
          "metadata": {
            "tags": []
          },
          "execution_count": 24
        }
      ]
    },
    {
      "cell_type": "code",
      "metadata": {
        "id": "mtlHWp4CH9_t",
        "colab_type": "code",
        "outputId": "d0e41974-ef14-417e-e5ed-c1334c3089db",
        "colab": {
          "base_uri": "https://localhost:8080/",
          "height": 34
        }
      },
      "source": [
        "ex = [1,2,3,4,5]\n",
        "f = lambda x, y : x + y\n",
        "list(map(f, ex, ex))"
      ],
      "execution_count": 0,
      "outputs": [
        {
          "output_type": "execute_result",
          "data": {
            "text/plain": [
              "[2, 4, 6, 8, 10]"
            ]
          },
          "metadata": {
            "tags": []
          },
          "execution_count": 6
        },
        {
          "output_type": "execute_result",
          "data": {
            "text/plain": [
              "[2, 4, 6, 8, 10]"
            ]
          },
          "metadata": {
            "tags": []
          },
          "execution_count": 25
        }
      ]
    },
    {
      "cell_type": "code",
      "metadata": {
        "id": "J2n_jALdH9_u",
        "colab_type": "code",
        "outputId": "963ac886-dc2b-4113-bb45-b4f4adaf2655",
        "colab": {
          "base_uri": "https://localhost:8080/",
          "height": 34
        }
      },
      "source": [
        "[x+y for x, y in zip(ex, ex)]"
      ],
      "execution_count": 0,
      "outputs": [
        {
          "output_type": "execute_result",
          "data": {
            "text/plain": [
              "[2, 4, 6, 8, 10]"
            ]
          },
          "metadata": {
            "tags": []
          },
          "execution_count": 7
        },
        {
          "output_type": "execute_result",
          "data": {
            "text/plain": [
              "[2, 4, 6, 8, 10]"
            ]
          },
          "metadata": {
            "tags": []
          },
          "execution_count": 26
        }
      ]
    },
    {
      "cell_type": "code",
      "metadata": {
        "id": "uxqQUpOaH9_w",
        "colab_type": "code",
        "outputId": "be930af0-cd55-45f8-838a-7b4390947c64",
        "colab": {
          "base_uri": "https://localhost:8080/",
          "height": 34
        }
      },
      "source": [
        "list(map(lambda x : x**2 if x % 2 == 0 else x, ex))\n",
        "[x ** 2 if x % 2 == 0 else x for x in ex]"
      ],
      "execution_count": 0,
      "outputs": [
        {
          "output_type": "execute_result",
          "data": {
            "text/plain": [
              "[1, 4, 3, 16, 5]"
            ]
          },
          "metadata": {
            "tags": []
          },
          "execution_count": 8
        },
        {
          "output_type": "execute_result",
          "data": {
            "text/plain": [
              "[1, 4, 3, 16, 5]"
            ]
          },
          "metadata": {
            "tags": []
          },
          "execution_count": 27
        }
      ]
    },
    {
      "cell_type": "code",
      "metadata": {
        "id": "znhCZc1cH9_x",
        "colab_type": "code",
        "outputId": "be3ee600-fab9-4add-864c-9b41562e44c4",
        "colab": {
          "base_uri": "https://localhost:8080/",
          "height": 51
        }
      },
      "source": [
        "from functools import reduce\n",
        "print(reduce(lambda x, y : x+y, [1,2,3,4,5]))"
      ],
      "execution_count": 0,
      "outputs": [
        {
          "output_type": "stream",
          "text": [
            "15\n",
            "15\n"
          ],
          "name": "stdout"
        }
      ]
    },
    {
      "cell_type": "code",
      "metadata": {
        "id": "PP2WJZxIH9_y",
        "colab_type": "code",
        "outputId": "b72fa911-7e1b-48f0-efb6-1c001538b2e8",
        "colab": {
          "base_uri": "https://localhost:8080/",
          "height": 51
        }
      },
      "source": [
        "x = 0\n",
        "for y in [1, 2, 3, 4, 5]:\n",
        "    x += y\n",
        "\n",
        "print(x)\n"
      ],
      "execution_count": 0,
      "outputs": [
        {
          "output_type": "stream",
          "text": [
            "15\n",
            "15\n"
          ],
          "name": "stdout"
        }
      ]
    },
    {
      "cell_type": "code",
      "metadata": {
        "id": "nrz7drf0H9_0",
        "colab_type": "code",
        "outputId": "f77f0ee1-984f-4955-f53d-2349e20d3222",
        "colab": {
          "base_uri": "https://localhost:8080/",
          "height": 85
        }
      },
      "source": [
        "def asterisk_test(a, *args):\n",
        "    print(a, args)\n",
        "    print(type(args))\n",
        "\n",
        "asterisk_test(1,2,3,4,5,6)"
      ],
      "execution_count": 0,
      "outputs": [
        {
          "output_type": "stream",
          "text": [
            "1 (2, 3, 4, 5, 6)\n",
            "<class 'tuple'>\n",
            "1 (2, 3, 4, 5, 6)\n",
            "<class 'tuple'>\n"
          ],
          "name": "stdout"
        }
      ]
    },
    {
      "cell_type": "code",
      "metadata": {
        "id": "YBUdk3GNH9_1",
        "colab_type": "code",
        "outputId": "88eca70c-dd13-494c-a723-e507837546bd",
        "colab": {
          "base_uri": "https://localhost:8080/",
          "height": 85
        }
      },
      "source": [
        "def asterisk_test(a, **kargs):\n",
        "    print(a, kargs)\n",
        "    print(type(kargs))\n",
        "\n",
        "asterisk_test(1,b=2,c=3,d=4,e=5,f=6)"
      ],
      "execution_count": 0,
      "outputs": [
        {
          "output_type": "stream",
          "text": [
            "1 {'b': 2, 'c': 3, 'd': 4, 'e': 5, 'f': 6}\n",
            "<class 'dict'>\n",
            "1 {'b': 2, 'c': 3, 'd': 4, 'e': 5, 'f': 6}\n",
            "<class 'dict'>\n"
          ],
          "name": "stdout"
        }
      ]
    },
    {
      "cell_type": "code",
      "metadata": {
        "id": "R7yfGc_UH9_2",
        "colab_type": "code",
        "outputId": "841822e2-c1a2-4426-e35f-8a8523d49e30",
        "colab": {
          "base_uri": "https://localhost:8080/",
          "height": 51
        }
      },
      "source": [
        "def asterisk_test(a, args):\n",
        "    print(a, *args)\n",
        "    print(type(args))\n",
        "\n",
        "asterisk_test(1,(2,3,4,5,6))"
      ],
      "execution_count": 0,
      "outputs": [
        {
          "output_type": "stream",
          "text": [
            "1 2 3 4 5 6\n",
            "<class 'tuple'>\n"
          ],
          "name": "stdout"
        }
      ]
    },
    {
      "cell_type": "code",
      "metadata": {
        "id": "8vnKhzEkH9_3",
        "colab_type": "code",
        "outputId": "ef4cb36c-1a5a-471c-c3f4-921a0d4fcf0d",
        "colab": {
          "base_uri": "https://localhost:8080/",
          "height": 51
        }
      },
      "source": [
        "def asterisk_test(a, *args):\n",
        "    print(a, args)\n",
        "    print(type(args))\n",
        "    #print(type(*args)) # type은 1개 또는 3개의 argument를 가져야해서 오류 발생\n",
        "asterisk_test(1,*(2,3,4,5,6))"
      ],
      "execution_count": 0,
      "outputs": [
        {
          "output_type": "stream",
          "text": [
            "1 (2, 3, 4, 5, 6)\n",
            "<class 'tuple'>\n"
          ],
          "name": "stdout"
        }
      ]
    },
    {
      "cell_type": "code",
      "metadata": {
        "id": "M8dQ7facH9_3",
        "colab_type": "code",
        "outputId": "34dd2978-efe8-4a15-a04a-1d8ed4f7bbda",
        "colab": {
          "base_uri": "https://localhost:8080/",
          "height": 51
        }
      },
      "source": [
        "a, b, c = ([1,2], [3,4], [5,6])\n",
        "print(a, b, c)"
      ],
      "execution_count": 0,
      "outputs": [
        {
          "output_type": "stream",
          "text": [
            "[1, 2] [3, 4] [5, 6]\n",
            "[1, 2] [3, 4] [5, 6]\n"
          ],
          "name": "stdout"
        }
      ]
    },
    {
      "cell_type": "code",
      "metadata": {
        "id": "7jhAZN-cH9_4",
        "colab_type": "code",
        "outputId": "ef11628e-e1ab-4778-e9a0-6b4b63517af4",
        "colab": {
          "base_uri": "https://localhost:8080/",
          "height": 51
        }
      },
      "source": [
        "data = ([1,2], [3,4], [5,6])\n",
        "print(*data)"
      ],
      "execution_count": 0,
      "outputs": [
        {
          "output_type": "stream",
          "text": [
            "[1, 2] [3, 4] [5, 6]\n",
            "[1, 2] [3, 4] [5, 6]\n"
          ],
          "name": "stdout"
        }
      ]
    },
    {
      "cell_type": "code",
      "metadata": {
        "id": "2K-v61hzH9_5",
        "colab_type": "code",
        "outputId": "8f4d33e0-7e84-4b69-833c-b91ad9817b52",
        "colab": {
          "base_uri": "https://localhost:8080/",
          "height": 153
        }
      },
      "source": [
        "for data in zip(*[[1,2], [3,4], [5, 6]]):\n",
        "    print(data)\n",
        "    print(type(data))"
      ],
      "execution_count": 0,
      "outputs": [
        {
          "output_type": "stream",
          "text": [
            "(1, 3, 5)\n",
            "<class 'tuple'>\n",
            "(2, 4, 6)\n",
            "<class 'tuple'>\n",
            "(1, 3, 5)\n",
            "<class 'tuple'>\n",
            "(2, 4, 6)\n",
            "<class 'tuple'>\n"
          ],
          "name": "stdout"
        }
      ]
    },
    {
      "cell_type": "code",
      "metadata": {
        "id": "lnpozEIFH9_6",
        "colab_type": "code",
        "outputId": "e3f66c3e-70dc-42fd-c8e1-caf7205886b8",
        "colab": {
          "base_uri": "https://localhost:8080/",
          "height": 51
        }
      },
      "source": [
        "def asterisk_test(a, b, c, d):\n",
        "    print(a, b, c, d)\n",
        "data = {'b':1, 'c':2, 'd':3}\n",
        "asterisk_test(10, **data)"
      ],
      "execution_count": 0,
      "outputs": [
        {
          "output_type": "stream",
          "text": [
            "10 1 2 3\n",
            "10 1 2 3\n"
          ],
          "name": "stdout"
        }
      ]
    },
    {
      "cell_type": "code",
      "metadata": {
        "id": "Sq-d3bhTH9_7",
        "colab_type": "code",
        "colab": {}
      },
      "source": [
        ""
      ],
      "execution_count": 0,
      "outputs": []
    }
  ]
}