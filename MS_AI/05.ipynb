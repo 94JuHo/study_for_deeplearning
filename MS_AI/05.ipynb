{
  "nbformat": 4,
  "nbformat_minor": 0,
  "metadata": {
    "colab": {
      "name": "05.ipynb",
      "provenance": [],
      "collapsed_sections": [],
      "include_colab_link": true
    },
    "kernelspec": {
      "name": "python3",
      "display_name": "Python 3"
    }
  },
  "cells": [
    {
      "cell_type": "markdown",
      "metadata": {
        "id": "view-in-github",
        "colab_type": "text"
      },
      "source": [
        "<a href=\"https://colab.research.google.com/github/94JuHo/study_for_deeplearning/blob/master/MS_AI/05.ipynb\" target=\"_parent\"><img src=\"https://colab.research.google.com/assets/colab-badge.svg\" alt=\"Open In Colab\"/></a>"
      ]
    },
    {
      "cell_type": "code",
      "metadata": {
        "id": "KNcxDv7I2OS0",
        "colab_type": "code",
        "outputId": "61f3d4ff-25ae-4b08-b815-f124c3904e31",
        "colab": {
          "base_uri": "https://localhost:8080/",
          "height": 34
        }
      },
      "source": [
        "sentence = \"I love you\"\n",
        "reverse_sentence = ' '\n",
        "for char in sentence:\n",
        "  reverse_sentence = char + reverse_sentence\n",
        "print(reverse_sentence)"
      ],
      "execution_count": 0,
      "outputs": [
        {
          "output_type": "stream",
          "text": [
            "uoy evol I \n"
          ],
          "name": "stdout"
        }
      ]
    },
    {
      "cell_type": "code",
      "metadata": {
        "id": "BGAHljNf4rha",
        "colab_type": "code",
        "outputId": "2b19818b-b06d-4ce7-daa2-2777c4dbc9c4",
        "colab": {
          "base_uri": "https://localhost:8080/",
          "height": 68
        }
      },
      "source": [
        "def addition(x, y):\n",
        "  return x+y\n",
        "\n",
        "def multiplication(x, y):\n",
        "  return x * y\n",
        "\n",
        "def divided_by_2(x):\n",
        "  return x/2\n",
        "\n",
        "print(addition(10, 5))\n",
        "print(multiplication(10, 5))\n",
        "print(divided_by_2(50))"
      ],
      "execution_count": 0,
      "outputs": [
        {
          "output_type": "stream",
          "text": [
            "15\n",
            "50\n",
            "25.0\n"
          ],
          "name": "stdout"
        }
      ]
    },
    {
      "cell_type": "code",
      "metadata": {
        "id": "7dsMMf_n4-O1",
        "colab_type": "code",
        "outputId": "913c82e7-f4fd-4a76-b6fe-c149173d921a",
        "colab": {
          "base_uri": "https://localhost:8080/",
          "height": 68
        }
      },
      "source": [
        "def calculate_rectangle_area(x, y):\n",
        "  return x * y\n",
        "\n",
        "rectangle_x = 10\n",
        "rectangle_y = 20\n",
        "print(\"사각형 x의 길이:\",rectangle_x)\n",
        "print(\"사각형 y의 길이:\",rectangle_y)\n",
        "\n",
        "print(\"사각형의 넓이:\",calculate_rectangle_area(rectangle_x, rectangle_y))"
      ],
      "execution_count": 0,
      "outputs": [
        {
          "output_type": "stream",
          "text": [
            "사각형 x의 길이: 10\n",
            "사각형 y의 길이: 20\n",
            "사각형의 넓이: 200\n"
          ],
          "name": "stdout"
        }
      ]
    },
    {
      "cell_type": "code",
      "metadata": {
        "id": "2LuJaQs15dcy",
        "colab_type": "code",
        "outputId": "03a084f3-d689-438c-89d0-e71fbeb792b7",
        "colab": {
          "base_uri": "https://localhost:8080/",
          "height": 34
        }
      },
      "source": [
        "def f(x):\n",
        "  return 2*x + 7\n",
        "def g(x):\n",
        "  return x ** 2\n",
        "\n",
        "x = 2\n",
        "print(f(x)+g(x)+f(g(x))+g(f(x)))"
      ],
      "execution_count": 0,
      "outputs": [
        {
          "output_type": "stream",
          "text": [
            "151\n"
          ],
          "name": "stdout"
        }
      ]
    },
    {
      "cell_type": "code",
      "metadata": {
        "id": "H61pzlFy5p8X",
        "colab_type": "code",
        "outputId": "11d703bf-bbc5-426c-bbee-13cf2d87b83d",
        "colab": {
          "base_uri": "https://localhost:8080/",
          "height": 34
        }
      },
      "source": [
        "def f(x):\n",
        "  return 2*x+7\n",
        "\n",
        "print(f(2))"
      ],
      "execution_count": 0,
      "outputs": [
        {
          "output_type": "stream",
          "text": [
            "11\n"
          ],
          "name": "stdout"
        }
      ]
    },
    {
      "cell_type": "code",
      "metadata": {
        "id": "zKtYEgTU5wE-",
        "colab_type": "code",
        "outputId": "ab89e570-cb8f-43fa-d587-424f7ee41b37",
        "colab": {
          "base_uri": "https://localhost:8080/",
          "height": 85
        }
      },
      "source": [
        "def a_rectangle_area():\n",
        "  print(5 * 7)\n",
        "def b_rectangle_area(x, y):\n",
        "  print( x*y )\n",
        "def c_rectangle_area():\n",
        "  return (5*7)\n",
        "def d_rectangle_area(x, y):\n",
        "  return (x*y)\n",
        "\n",
        "a_rectangle_area()\n",
        "b_rectangle_area(5, 7)\n",
        "print(c_rectangle_area())\n",
        "print(d_rectangle_area(5, 7))"
      ],
      "execution_count": 0,
      "outputs": [
        {
          "output_type": "stream",
          "text": [
            "35\n",
            "35\n",
            "35\n",
            "35\n"
          ],
          "name": "stdout"
        }
      ]
    },
    {
      "cell_type": "code",
      "metadata": {
        "id": "X_VSFsrP6NK_",
        "colab_type": "code",
        "outputId": "47a40d97-f872-4a40-ec7a-acd92d6c712f",
        "colab": {
          "base_uri": "https://localhost:8080/",
          "height": 51
        }
      },
      "source": [
        "def f(x):\n",
        "  y = x\n",
        "  x = 5\n",
        "  return y * y\n",
        "\n",
        "x= 3\n",
        "print(f(x))\n",
        "print(x)  "
      ],
      "execution_count": 0,
      "outputs": [
        {
          "output_type": "stream",
          "text": [
            "9\n",
            "3\n"
          ],
          "name": "stdout"
        }
      ]
    },
    {
      "cell_type": "code",
      "metadata": {
        "id": "r4AzMzVt6YLZ",
        "colab_type": "code",
        "outputId": "de987c55-7992-476c-c3de-a57ca335d9f7",
        "colab": {
          "base_uri": "https://localhost:8080/",
          "height": 34
        }
      },
      "source": [
        "def spam(eggs):\n",
        "  eggs.append(1)\n",
        "\n",
        "  eggs = [2, 3]\n",
        "\n",
        "ham = [0]\n",
        "spam(ham)\n",
        "print(ham)"
      ],
      "execution_count": 0,
      "outputs": [
        {
          "output_type": "stream",
          "text": [
            "[0, 1]\n"
          ],
          "name": "stdout"
        }
      ]
    },
    {
      "cell_type": "code",
      "metadata": {
        "id": "O2auxC9S7Art",
        "colab_type": "code",
        "outputId": "5e3c9a5c-3ae1-4c17-d1c5-faf6248f6076",
        "colab": {
          "base_uri": "https://localhost:8080/",
          "height": 249
        }
      },
      "source": [
        "def test(t):\n",
        "  print(x)\n",
        "  t = 20\n",
        "  print(\"In Function:\",  t)\n",
        "\n",
        "x = 10\n",
        "test(x)\n",
        "print(\"In main:\", x)\n",
        "print(\"In main:\", t)"
      ],
      "execution_count": 0,
      "outputs": [
        {
          "output_type": "stream",
          "text": [
            "10\n",
            "In Function: 20\n",
            "In main: 10\n"
          ],
          "name": "stdout"
        },
        {
          "output_type": "error",
          "ename": "NameError",
          "evalue": "ignored",
          "traceback": [
            "\u001b[0;31m---------------------------------------------------------------------------\u001b[0m",
            "\u001b[0;31mNameError\u001b[0m                                 Traceback (most recent call last)",
            "\u001b[0;32m<ipython-input-14-9c0d4df748fe>\u001b[0m in \u001b[0;36m<module>\u001b[0;34m()\u001b[0m\n\u001b[1;32m      7\u001b[0m \u001b[0mtest\u001b[0m\u001b[0;34m(\u001b[0m\u001b[0mx\u001b[0m\u001b[0;34m)\u001b[0m\u001b[0;34m\u001b[0m\u001b[0;34m\u001b[0m\u001b[0m\n\u001b[1;32m      8\u001b[0m \u001b[0mprint\u001b[0m\u001b[0;34m(\u001b[0m\u001b[0;34m\"In main:\"\u001b[0m\u001b[0;34m,\u001b[0m \u001b[0mx\u001b[0m\u001b[0;34m)\u001b[0m\u001b[0;34m\u001b[0m\u001b[0;34m\u001b[0m\u001b[0m\n\u001b[0;32m----> 9\u001b[0;31m \u001b[0mprint\u001b[0m\u001b[0;34m(\u001b[0m\u001b[0;34m\"In main:\"\u001b[0m\u001b[0;34m,\u001b[0m \u001b[0mt\u001b[0m\u001b[0;34m)\u001b[0m\u001b[0;34m\u001b[0m\u001b[0;34m\u001b[0m\u001b[0m\n\u001b[0m",
            "\u001b[0;31mNameError\u001b[0m: name 't' is not defined"
          ]
        }
      ]
    },
    {
      "cell_type": "code",
      "metadata": {
        "id": "HFsuZ_6s7rd8",
        "colab_type": "code",
        "outputId": "1060ef72-9199-423f-f47b-cbc78afc3410",
        "colab": {
          "base_uri": "https://localhost:8080/",
          "height": 51
        }
      },
      "source": [
        "def f():\n",
        "  s = \"I love London!\"\n",
        "  print(s)\n",
        "\n",
        "s = \"I love Paris!\"\n",
        "f()\n",
        "print(s)"
      ],
      "execution_count": 0,
      "outputs": [
        {
          "output_type": "stream",
          "text": [
            "I love London!\n",
            "I love Paris!\n"
          ],
          "name": "stdout"
        }
      ]
    },
    {
      "cell_type": "code",
      "metadata": {
        "id": "Kx2l1es88H9J",
        "colab_type": "code",
        "outputId": "b198d671-b9c2-461d-f4bc-c04ecb136c4e",
        "colab": {
          "base_uri": "https://localhost:8080/",
          "height": 51
        }
      },
      "source": [
        "def f():\n",
        "  global s\n",
        "  s = \"I love London!\"\n",
        "  print(s)\n",
        "\n",
        "s = \"I love Paris!\"\n",
        "f()\n",
        "print(s)"
      ],
      "execution_count": 0,
      "outputs": [
        {
          "output_type": "stream",
          "text": [
            "I love London!\n",
            "I love London!\n"
          ],
          "name": "stdout"
        }
      ]
    },
    {
      "cell_type": "code",
      "metadata": {
        "id": "Jd2Wjc018R1T",
        "colab_type": "code",
        "outputId": "b0be2259-9034-48f2-a68a-472cb49b0457",
        "colab": {
          "base_uri": "https://localhost:8080/",
          "height": 119
        }
      },
      "source": [
        "def calculate(x, y):\n",
        "  total = x + y\n",
        "  print(\"In Function\")\n",
        "  print(\"a:\", str(a), \"b:\", str(b), \"a+b:\", str(a+b), \"total:\", str(total))\n",
        "  return total\n",
        "\n",
        "a = 5\n",
        "b = 7\n",
        "total = 0\n",
        "print(\"In program -1\")\n",
        "print(\"a:\", str(a), \"b:\", str(b), \"a+b:\", str(a+b))\n",
        "\n",
        "sum = calculate(a, b)\n",
        "print(\"After Calculation\")\n",
        "print(\"Total:\", str(total), \"Sum:\",str(sum))"
      ],
      "execution_count": 0,
      "outputs": [
        {
          "output_type": "stream",
          "text": [
            "In program -1\n",
            "a: 5 b: 7 a+b: 12\n",
            "In Function\n",
            "a: 5 b: 7 a+b: 12 total: 12\n",
            "After Calculation\n",
            "Total: 0 Sum: 12\n"
          ],
          "name": "stdout"
        }
      ]
    },
    {
      "cell_type": "code",
      "metadata": {
        "id": "KEp4Jtbs839z",
        "colab_type": "code",
        "outputId": "70729a39-c116-4b1e-9827-88b7f46b8a16",
        "colab": {
          "base_uri": "https://localhost:8080/",
          "height": 51
        }
      },
      "source": [
        "def factorial(n):\n",
        "  if n == 1:\n",
        "    return 1\n",
        "  else:\n",
        "    return n * factorial (n-1)\n",
        "\n",
        "print(factorial(int(input(\"Input Number for Factorial Calculation: \"))))"
      ],
      "execution_count": 0,
      "outputs": [
        {
          "output_type": "stream",
          "text": [
            "Input Number for Factorial Calculation: 5\n",
            "120\n"
          ],
          "name": "stdout"
        }
      ]
    },
    {
      "cell_type": "code",
      "metadata": {
        "id": "SQQVvzWF9E4B",
        "colab_type": "code",
        "outputId": "3cd4cd06-67d7-4bff-b3c4-844352452a1b",
        "colab": {
          "base_uri": "https://localhost:8080/",
          "height": 51
        }
      },
      "source": [
        "def print_something(my_name, your_name):\n",
        "  print(\"Hello {0}, My name is {1}\".format(your_name, my_name))\n",
        "\n",
        "print_something(\"Sungchul\", \"TEAMLAB\")\n",
        "print_something(your_name=\"TEAMLAB\", my_name=\"SungChul\")"
      ],
      "execution_count": 0,
      "outputs": [
        {
          "output_type": "stream",
          "text": [
            "Hello TEAMLAB, My name is Sungchul\n",
            "Hello TEAMLAB, My name is SungChul\n"
          ],
          "name": "stdout"
        }
      ]
    },
    {
      "cell_type": "code",
      "metadata": {
        "id": "lR1dpf1R9pV-",
        "colab_type": "code",
        "outputId": "4e3ef00c-b7be-4ab0-d5d2-f3f02e61cc89",
        "colab": {
          "base_uri": "https://localhost:8080/",
          "height": 51
        }
      },
      "source": [
        "def print_something(my_name, your_name=\"TEAMLAB\"):\n",
        "  print(\"Hello {0}, My name is {1}\".format(your_name, my_name))\n",
        "\n",
        "print_something(\"Sungchul\", \"TEAMLAB\")\n",
        "print_something(\"SungChul\")"
      ],
      "execution_count": 0,
      "outputs": [
        {
          "output_type": "stream",
          "text": [
            "Hello TEAMLAB, My name is Sungchul\n",
            "Hello TEAMLAB, My name is SungChul\n"
          ],
          "name": "stdout"
        }
      ]
    },
    {
      "cell_type": "code",
      "metadata": {
        "id": "HYROABYU90qH",
        "colab_type": "code",
        "outputId": "b0e47c30-3607-488b-8a18-51b80bc8fff6",
        "colab": {
          "base_uri": "https://localhost:8080/",
          "height": 34
        }
      },
      "source": [
        "del sum #위에서 sum을 변수로 사용했음으로 변수로 사용하면 sum 함수 호출 안됨. 변수삭제\n",
        "def asterisk_test(a, b, *args):\n",
        "  return a+b+sum(args)\n",
        "\n",
        "print(asterisk_test(1, 2, 3, 4, 5))"
      ],
      "execution_count": 0,
      "outputs": [
        {
          "output_type": "stream",
          "text": [
            "15\n"
          ],
          "name": "stdout"
        }
      ]
    },
    {
      "cell_type": "code",
      "metadata": {
        "id": "2XjxI0Qa99Dj",
        "colab_type": "code",
        "outputId": "53fd0937-9d21-4a6c-cbbe-867f13547078",
        "colab": {
          "base_uri": "https://localhost:8080/",
          "height": 34
        }
      },
      "source": [
        "def asterisk_test_2(*args):\n",
        "  x, y, *z = args\n",
        "  return x, y, z\n",
        "\n",
        "print(asterisk_test_2(3, 4, 5))"
      ],
      "execution_count": 0,
      "outputs": [
        {
          "output_type": "stream",
          "text": [
            "(3, 4, [5])\n"
          ],
          "name": "stdout"
        }
      ]
    },
    {
      "cell_type": "code",
      "metadata": {
        "id": "gOL4L7AwAhRY",
        "colab_type": "code",
        "outputId": "4e0e8fe1-5796-4c83-a9cf-63c7be10f991",
        "colab": {
          "base_uri": "https://localhost:8080/",
          "height": 34
        }
      },
      "source": [
        "print(asterisk_test_2(3, 4, 5, 10, 20))"
      ],
      "execution_count": 0,
      "outputs": [
        {
          "output_type": "stream",
          "text": [
            "(3, 4, [5, 10, 20])\n"
          ],
          "name": "stdout"
        }
      ]
    },
    {
      "cell_type": "code",
      "metadata": {
        "id": "uK8VqOeaAosM",
        "colab_type": "code",
        "outputId": "0636b012-f581-446f-a083-1d38078b74ba",
        "colab": {
          "base_uri": "https://localhost:8080/",
          "height": 85
        }
      },
      "source": [
        "def kwargs_test(**kwargs):\n",
        "  print(kwargs)\n",
        "  print(\"First value is {first}\".format(**kwargs))\n",
        "  print(\"Second value is {second}\".format(**kwargs))\n",
        "  print(\"Third value is {third}\".format(**kwargs))\n",
        "\n",
        "kwargs_test(first=3, second=4, third=5)"
      ],
      "execution_count": 0,
      "outputs": [
        {
          "output_type": "stream",
          "text": [
            "{'first': 3, 'second': 4, 'third': 5}\n",
            "First value is 3\n",
            "Second value is 4\n",
            "Third value is 5\n"
          ],
          "name": "stdout"
        }
      ]
    },
    {
      "cell_type": "code",
      "metadata": {
        "id": "1QqDt6tBA9Go",
        "colab_type": "code",
        "outputId": "ec4a6be0-4985-427f-ccc1-5b1f2dd22e9d",
        "colab": {
          "base_uri": "https://localhost:8080/",
          "height": 34
        }
      },
      "source": [
        "kwargs = {'first':3, 'second':4, 'third':5}\n",
        "print(\"Second value is {second}\".format(**kwargs))"
      ],
      "execution_count": 0,
      "outputs": [
        {
          "output_type": "stream",
          "text": [
            "Second value is 4\n"
          ],
          "name": "stdout"
        }
      ]
    },
    {
      "cell_type": "code",
      "metadata": {
        "id": "2kYcbzkTBLmE",
        "colab_type": "code",
        "outputId": "d79064ac-4ea7-4260-8b31-4badd83c08f5",
        "colab": {
          "base_uri": "https://localhost:8080/",
          "height": 34
        }
      },
      "source": [
        "print(\"Second value is {second}\".format(first=3, second=4, thrid=5))"
      ],
      "execution_count": 0,
      "outputs": [
        {
          "output_type": "stream",
          "text": [
            "Second value is 4\n"
          ],
          "name": "stdout"
        }
      ]
    },
    {
      "cell_type": "code",
      "metadata": {
        "id": "ZlkPD9ybBRR2",
        "colab_type": "code",
        "outputId": "b3102e16-861b-43ea-a96f-a43e2436db59",
        "colab": {
          "base_uri": "https://localhost:8080/",
          "height": 51
        }
      },
      "source": [
        "def kwargs_test(one, two, *args, **kwargs):\n",
        "  print(one+two+sum(args))\n",
        "  print(kwargs)\n",
        "\n",
        "kwargs_test(3,4,5,6,7,8,9,first=3, second=4, third=5)"
      ],
      "execution_count": 0,
      "outputs": [
        {
          "output_type": "stream",
          "text": [
            "42\n",
            "{'first': 3, 'second': 4, 'third': 5}\n"
          ],
          "name": "stdout"
        }
      ]
    },
    {
      "cell_type": "code",
      "metadata": {
        "id": "5MeppSbbBddn",
        "colab_type": "code",
        "outputId": "430ba5a9-74f9-4ec5-e79b-3ad7d26b32b1",
        "colab": {
          "base_uri": "https://localhost:8080/",
          "height": 85
        }
      },
      "source": [
        "a = 5\n",
        "if (a>3):\n",
        "  print(\"Hello world\")\n",
        "  print(\"hello teamlab\")\n",
        "if (a>4):\n",
        "  print(\"Hello world\")\n",
        "  print(\"hello teamlab\")\n",
        "if (a>5):\n",
        "  print(\"Hello world\")\n",
        "  print(\"hello teamlab\")"
      ],
      "execution_count": 0,
      "outputs": [
        {
          "output_type": "stream",
          "text": [
            "Hello world\n",
            "hello teamlab\n",
            "Hello world\n",
            "hello teamlab\n"
          ],
          "name": "stdout"
        }
      ]
    },
    {
      "cell_type": "code",
      "metadata": {
        "id": "y5-S_pJ1BmFj",
        "colab_type": "code",
        "outputId": "e9a0c83a-d9a1-4686-95e1-24148803e0d5",
        "colab": {
          "base_uri": "https://localhost:8080/",
          "height": 85
        }
      },
      "source": [
        "def print_hello():\n",
        "  print(\"Hello world\")\n",
        "  print(\"hello teamlab\")\n",
        "a = 5\n",
        "if (a>3):\n",
        "  print_hello()\n",
        "if (a>4):\n",
        "  print_hello()\n",
        "if (a>5):\n",
        "  print_hello()"
      ],
      "execution_count": 0,
      "outputs": [
        {
          "output_type": "stream",
          "text": [
            "Hello world\n",
            "hello teamlab\n",
            "Hello world\n",
            "hello teamlab\n"
          ],
          "name": "stdout"
        }
      ]
    },
    {
      "cell_type": "code",
      "metadata": {
        "id": "Jvk1G2gbCBuT",
        "colab_type": "code",
        "outputId": "37e59a7e-738d-4923-9dca-ac58c6f88532",
        "colab": {
          "base_uri": "https://localhost:8080/",
          "height": 51
        }
      },
      "source": [
        "import math\n",
        "a = 1; b = -2; c = 1\n",
        "\n",
        "print((-b+math.sqrt(b**2 - (4*a*c))) / (2*a))\n",
        "print((-b-math.sqrt(b**2 - (4*a*c))) / (2*a))"
      ],
      "execution_count": 0,
      "outputs": [
        {
          "output_type": "stream",
          "text": [
            "1.0\n",
            "1.0\n"
          ],
          "name": "stdout"
        }
      ]
    },
    {
      "cell_type": "code",
      "metadata": {
        "id": "tQ4h2LCmCRL1",
        "colab_type": "code",
        "outputId": "6d50a7f6-6ff2-413a-886f-68679b5b0c0d",
        "colab": {
          "base_uri": "https://localhost:8080/",
          "height": 34
        }
      },
      "source": [
        "import math\n",
        "def get_result_quadratic_equation(a, b, c):\n",
        "  values = []\n",
        "  values.append((-b+math.sqrt(b**2 - (4*a*c))) / (2*a))\n",
        "  values.append((-b-math.sqrt(b**2 - (4*a*c))) / (2*a))\n",
        "  return values\n",
        "\n",
        "print(get_result_quadratic_equation(1,-2,1))"
      ],
      "execution_count": 0,
      "outputs": [
        {
          "output_type": "stream",
          "text": [
            "[1.0, 1.0]\n"
          ],
          "name": "stdout"
        }
      ]
    },
    {
      "cell_type": "code",
      "metadata": {
        "id": "AO1B-2ZBCgzz",
        "colab_type": "code",
        "colab": {}
      },
      "source": [
        ""
      ],
      "execution_count": 0,
      "outputs": []
    }
  ]
}