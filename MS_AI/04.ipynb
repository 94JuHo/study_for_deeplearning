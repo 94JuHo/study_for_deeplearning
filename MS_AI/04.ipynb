{
  "nbformat": 4,
  "nbformat_minor": 0,
  "metadata": {
    "colab": {
      "name": "04.ipynb",
      "provenance": [],
      "collapsed_sections": [],
      "include_colab_link": true
    },
    "kernelspec": {
      "name": "python3",
      "display_name": "Python 3"
    }
  },
  "cells": [
    {
      "cell_type": "markdown",
      "metadata": {
        "id": "view-in-github",
        "colab_type": "text"
      },
      "source": [
        "<a href=\"https://colab.research.google.com/github/94JuHo/study_for_deeplearning/blob/master/MS_AI/04.ipynb\" target=\"_parent\"><img src=\"https://colab.research.google.com/assets/colab-badge.svg\" alt=\"Open In Colab\"/></a>"
      ]
    },
    {
      "cell_type": "code",
      "metadata": {
        "id": "WoKBY81ywO5E",
        "colab_type": "code",
        "outputId": "b11a1a10-dabe-4125-b8a3-327cf8332daf",
        "colab": {
          "base_uri": "https://localhost:8080/",
          "height": 68
        }
      },
      "source": [
        "print(\"Tell me your age?\")\n",
        "myage = int(input())\n",
        "if myage < 30:\n",
        "  print('welcome to the Club.')\n",
        "else:\n",
        "  print(\"oh! no. you are not accepted.\")"
      ],
      "execution_count": 0,
      "outputs": [
        {
          "output_type": "stream",
          "text": [
            "Tell me your age?\n",
            "20\n",
            "welcome to the Club.\n"
          ],
          "name": "stdout"
        }
      ]
    },
    {
      "cell_type": "code",
      "metadata": {
        "id": "jaDc_IfRwhDF",
        "colab_type": "code",
        "outputId": "8c516f94-1392-4684-d459-cbe3fe004e52",
        "colab": {
          "base_uri": "https://localhost:8080/",
          "height": 34
        }
      },
      "source": [
        "a = 100\n",
        "b = 100\n",
        "a is b"
      ],
      "execution_count": 0,
      "outputs": [
        {
          "output_type": "execute_result",
          "data": {
            "text/plain": [
              "True"
            ]
          },
          "metadata": {
            "tags": []
          },
          "execution_count": 2
        }
      ]
    },
    {
      "cell_type": "code",
      "metadata": {
        "id": "ivfC2Ue2wxTw",
        "colab_type": "code",
        "outputId": "6849054d-bc6b-4dc1-d3a1-07e5d1d4b90a",
        "colab": {
          "base_uri": "https://localhost:8080/",
          "height": 34
        }
      },
      "source": [
        "a == b"
      ],
      "execution_count": 0,
      "outputs": [
        {
          "output_type": "execute_result",
          "data": {
            "text/plain": [
              "True"
            ]
          },
          "metadata": {
            "tags": []
          },
          "execution_count": 3
        }
      ]
    },
    {
      "cell_type": "code",
      "metadata": {
        "id": "tHxEY--MwyFh",
        "colab_type": "code",
        "outputId": "8c3dae99-1b51-4529-d721-1312c5c803ca",
        "colab": {
          "base_uri": "https://localhost:8080/",
          "height": 34
        }
      },
      "source": [
        "a = 300\n",
        "b = 300\n",
        "a == b"
      ],
      "execution_count": 0,
      "outputs": [
        {
          "output_type": "execute_result",
          "data": {
            "text/plain": [
              "True"
            ]
          },
          "metadata": {
            "tags": []
          },
          "execution_count": 4
        }
      ]
    },
    {
      "cell_type": "code",
      "metadata": {
        "id": "aG-kR5orxpap",
        "colab_type": "code",
        "outputId": "87b34986-cf9b-42c2-969f-79cff1fefb4b",
        "colab": {
          "base_uri": "https://localhost:8080/",
          "height": 34
        }
      },
      "source": [
        "a is b"
      ],
      "execution_count": 0,
      "outputs": [
        {
          "output_type": "execute_result",
          "data": {
            "text/plain": [
              "False"
            ]
          },
          "metadata": {
            "tags": []
          },
          "execution_count": 5
        }
      ]
    },
    {
      "cell_type": "code",
      "metadata": {
        "id": "gmU_ptSBxqKc",
        "colab_type": "code",
        "outputId": "37d48ef2-3f4f-4e34-830d-ad086ab52af8",
        "colab": {
          "base_uri": "https://localhost:8080/",
          "height": 34
        }
      },
      "source": [
        "a = 8\n",
        "b = 5\n",
        "a == 8 and b == 4"
      ],
      "execution_count": 0,
      "outputs": [
        {
          "output_type": "execute_result",
          "data": {
            "text/plain": [
              "False"
            ]
          },
          "metadata": {
            "tags": []
          },
          "execution_count": 6
        }
      ]
    },
    {
      "cell_type": "code",
      "metadata": {
        "id": "YQ8GAnFFx2BX",
        "colab_type": "code",
        "outputId": "32ca1f2b-431a-4b94-87f8-9cff911509b1",
        "colab": {
          "base_uri": "https://localhost:8080/",
          "height": 34
        }
      },
      "source": [
        "a > 7 or b > 7"
      ],
      "execution_count": 0,
      "outputs": [
        {
          "output_type": "execute_result",
          "data": {
            "text/plain": [
              "True"
            ]
          },
          "metadata": {
            "tags": []
          },
          "execution_count": 7
        }
      ]
    },
    {
      "cell_type": "code",
      "metadata": {
        "id": "co_OUIx5x3xq",
        "colab_type": "code",
        "outputId": "3f510f9c-a138-4b5c-d9db-c0c2925fb909",
        "colab": {
          "base_uri": "https://localhost:8080/",
          "height": 34
        }
      },
      "source": [
        "not ( a > 7)"
      ],
      "execution_count": 0,
      "outputs": [
        {
          "output_type": "execute_result",
          "data": {
            "text/plain": [
              "False"
            ]
          },
          "metadata": {
            "tags": []
          },
          "execution_count": 8
        }
      ]
    },
    {
      "cell_type": "code",
      "metadata": {
        "id": "njT3Qb6jx48b",
        "colab_type": "code",
        "outputId": "94d50fc1-f87e-48a6-f21f-4c5ce7cdd21c",
        "colab": {
          "base_uri": "https://localhost:8080/",
          "height": 51
        }
      },
      "source": [
        "score = int(input(\"enter your score:\"))\n",
        "\n",
        "if score >= 90:\n",
        "  grade = 'A'\n",
        "if score >=80:\n",
        "  grade = 'B'\n",
        "if score >= 70:\n",
        "  grade = 'C'\n",
        "if score >= 60:\n",
        "  grade = 'D'\n",
        "if score < 60:\n",
        "  grade = 'F'\n",
        "\n",
        "print(grade)"
      ],
      "execution_count": 0,
      "outputs": [
        {
          "output_type": "stream",
          "text": [
            "enter your score:98\n",
            "D\n"
          ],
          "name": "stdout"
        }
      ]
    },
    {
      "cell_type": "code",
      "metadata": {
        "id": "9PpQk9KzyZyh",
        "colab_type": "code",
        "outputId": "02d80f40-eec1-4942-acf9-73e18c027422",
        "colab": {
          "base_uri": "https://localhost:8080/",
          "height": 51
        }
      },
      "source": [
        "score = int(input(\"enter your score:\"))\n",
        "\n",
        "if score >= 90:\n",
        "  grade = 'A'\n",
        "elif score >=80:\n",
        "  grade = 'B'\n",
        "elif score >= 70:\n",
        "  grade = 'C'\n",
        "elif score >= 60:\n",
        "  grade = 'D'\n",
        "else:\n",
        "  grade = 'F'\n",
        "\n",
        "print(grade)"
      ],
      "execution_count": 0,
      "outputs": [
        {
          "output_type": "stream",
          "text": [
            "enter your score:98\n",
            "A\n"
          ],
          "name": "stdout"
        }
      ]
    },
    {
      "cell_type": "code",
      "metadata": {
        "id": "_ZRJkKz3yoTS",
        "colab_type": "code",
        "outputId": "3b3a715f-f901-4cdf-8c37-23a51bceab2e",
        "colab": {
          "base_uri": "https://localhost:8080/",
          "height": 102
        }
      },
      "source": [
        "for looper in [1, 2, 3, 4, 5]:\n",
        "  print(\"hello\")"
      ],
      "execution_count": 0,
      "outputs": [
        {
          "output_type": "stream",
          "text": [
            "hello\n",
            "hello\n",
            "hello\n",
            "hello\n",
            "hello\n"
          ],
          "name": "stdout"
        }
      ]
    },
    {
      "cell_type": "code",
      "metadata": {
        "id": "qwVsCsjHy7qH",
        "colab_type": "code",
        "outputId": "50a99df7-b9a4-4115-e2a3-936a2b0f62e3",
        "colab": {
          "base_uri": "https://localhost:8080/",
          "height": 102
        }
      },
      "source": [
        "for looper in [1, 2, 3, 4, 5]:\n",
        "  print(looper)"
      ],
      "execution_count": 0,
      "outputs": [
        {
          "output_type": "stream",
          "text": [
            "1\n",
            "2\n",
            "3\n",
            "4\n",
            "5\n"
          ],
          "name": "stdout"
        }
      ]
    },
    {
      "cell_type": "code",
      "metadata": {
        "id": "Gam2YCDLzFAp",
        "colab_type": "code",
        "outputId": "cc4a0beb-9a59-4997-a881-58f1b6163fec",
        "colab": {
          "base_uri": "https://localhost:8080/",
          "height": 187
        }
      },
      "source": [
        "for looper in range(10):\n",
        "  print(\"hello\")"
      ],
      "execution_count": 0,
      "outputs": [
        {
          "output_type": "stream",
          "text": [
            "hello\n",
            "hello\n",
            "hello\n",
            "hello\n",
            "hello\n",
            "hello\n",
            "hello\n",
            "hello\n",
            "hello\n",
            "hello\n"
          ],
          "name": "stdout"
        }
      ]
    },
    {
      "cell_type": "code",
      "metadata": {
        "id": "XeXjNyhmzMmu",
        "colab_type": "code",
        "outputId": "2e9a9ce5-55b7-4906-e954-192af9359e5b",
        "colab": {
          "base_uri": "https://localhost:8080/",
          "height": 136
        }
      },
      "source": [
        "for i in 'abcdefg':\n",
        "  print(i)"
      ],
      "execution_count": 0,
      "outputs": [
        {
          "output_type": "stream",
          "text": [
            "a\n",
            "b\n",
            "c\n",
            "d\n",
            "e\n",
            "f\n",
            "g\n"
          ],
          "name": "stdout"
        }
      ]
    },
    {
      "cell_type": "code",
      "metadata": {
        "id": "LZtlPnChzRcb",
        "colab_type": "code",
        "outputId": "fb45bfaf-de97-4fc1-c927-b329c5f6bc62",
        "colab": {
          "base_uri": "https://localhost:8080/",
          "height": 68
        }
      },
      "source": [
        "for i in ['americano', 'latte', 'frappuccino']:\n",
        "  print(i)"
      ],
      "execution_count": 0,
      "outputs": [
        {
          "output_type": "stream",
          "text": [
            "americano\n",
            "latte\n",
            "frappuccino\n"
          ],
          "name": "stdout"
        }
      ]
    },
    {
      "cell_type": "code",
      "metadata": {
        "id": "aQHoG2D5zZw4",
        "colab_type": "code",
        "outputId": "b4012f74-213a-4099-df14-5f4e5f30c58b",
        "colab": {
          "base_uri": "https://localhost:8080/",
          "height": 102
        }
      },
      "source": [
        "for i in range(1, 10, 2):\n",
        "  print(i)"
      ],
      "execution_count": 0,
      "outputs": [
        {
          "output_type": "stream",
          "text": [
            "1\n",
            "3\n",
            "5\n",
            "7\n",
            "9\n"
          ],
          "name": "stdout"
        }
      ]
    },
    {
      "cell_type": "code",
      "metadata": {
        "id": "Zrwxe-RlzdzW",
        "colab_type": "code",
        "outputId": "a4c5cf19-3e03-49b4-962b-ebe9178e47c8",
        "colab": {
          "base_uri": "https://localhost:8080/",
          "height": 170
        }
      },
      "source": [
        "for i in range(10, 1, -1):\n",
        "  print(i)"
      ],
      "execution_count": 0,
      "outputs": [
        {
          "output_type": "stream",
          "text": [
            "10\n",
            "9\n",
            "8\n",
            "7\n",
            "6\n",
            "5\n",
            "4\n",
            "3\n",
            "2\n"
          ],
          "name": "stdout"
        }
      ]
    },
    {
      "cell_type": "code",
      "metadata": {
        "id": "J6KEt3WtzhAe",
        "colab_type": "code",
        "outputId": "414ca0e0-afef-4516-ced8-783425538901",
        "colab": {
          "base_uri": "https://localhost:8080/",
          "height": 170
        }
      },
      "source": [
        "i = 1\n",
        "while i < 10:\n",
        "  print(i)\n",
        "  i += 1"
      ],
      "execution_count": 0,
      "outputs": [
        {
          "output_type": "stream",
          "text": [
            "1\n",
            "2\n",
            "3\n",
            "4\n",
            "5\n",
            "6\n",
            "7\n",
            "8\n",
            "9\n"
          ],
          "name": "stdout"
        }
      ]
    },
    {
      "cell_type": "code",
      "metadata": {
        "id": "H3hBnbQ7zk1B",
        "colab_type": "code",
        "outputId": "db4a200a-817d-4695-e03c-ccdf371c0c9f",
        "colab": {
          "base_uri": "https://localhost:8080/",
          "height": 119
        }
      },
      "source": [
        "for i in range(10):\n",
        "  if i == 5 : break\n",
        "  print(i)\n",
        "print(\"end of program\")"
      ],
      "execution_count": 0,
      "outputs": [
        {
          "output_type": "stream",
          "text": [
            "0\n",
            "1\n",
            "2\n",
            "3\n",
            "4\n",
            "end of program\n"
          ],
          "name": "stdout"
        }
      ]
    },
    {
      "cell_type": "code",
      "metadata": {
        "id": "Uo1FJI1ozrQQ",
        "colab_type": "code",
        "outputId": "ddcc182d-b75a-4b30-940a-c1add678cf78",
        "colab": {
          "base_uri": "https://localhost:8080/",
          "height": 187
        }
      },
      "source": [
        "for i in range(10):\n",
        "  if i == 5: continue\n",
        "  print(i)\n",
        "print(\"end of program\")"
      ],
      "execution_count": 0,
      "outputs": [
        {
          "output_type": "stream",
          "text": [
            "0\n",
            "1\n",
            "2\n",
            "3\n",
            "4\n",
            "6\n",
            "7\n",
            "8\n",
            "9\n",
            "end of program\n"
          ],
          "name": "stdout"
        }
      ]
    },
    {
      "cell_type": "code",
      "metadata": {
        "id": "FfltHa3Nz1Tw",
        "colab_type": "code",
        "outputId": "f96d6a7c-0370-4691-e9f7-1715e1979fe3",
        "colab": {
          "base_uri": "https://localhost:8080/",
          "height": 204
        }
      },
      "source": [
        "for i in range(10):\n",
        "  print(i)\n",
        "else:\n",
        "  print(\"end of program\")"
      ],
      "execution_count": 0,
      "outputs": [
        {
          "output_type": "stream",
          "text": [
            "0\n",
            "1\n",
            "2\n",
            "3\n",
            "4\n",
            "5\n",
            "6\n",
            "7\n",
            "8\n",
            "9\n",
            "end of program\n"
          ],
          "name": "stdout"
        }
      ]
    },
    {
      "cell_type": "code",
      "metadata": {
        "id": "V12XG6FSz7l8",
        "colab_type": "code",
        "outputId": "b019b537-5f4e-46f1-8451-b7f42408eda0",
        "colab": {
          "base_uri": "https://localhost:8080/",
          "height": 34
        }
      },
      "source": [
        "sentence = \"I love you\"\n",
        "reverse_sentence = ''\n",
        "for char in sentence:\n",
        "  reverse_sentence = char + reverse_sentence\n",
        "\n",
        "print(reverse_sentence)"
      ],
      "execution_count": 0,
      "outputs": [
        {
          "output_type": "stream",
          "text": [
            "uoy evol I\n"
          ],
          "name": "stdout"
        }
      ]
    },
    {
      "cell_type": "code",
      "metadata": {
        "id": "A-i5bIHs0MiO",
        "colab_type": "code",
        "outputId": "e69d901e-f022-4ce5-b35d-7c48b99e184f",
        "colab": {
          "base_uri": "https://localhost:8080/",
          "height": 34
        }
      },
      "source": [
        "decimal = 10\n",
        "result = ''\n",
        "while (decimal > 0):\n",
        "  remainder = decimal % 2\n",
        "  decimal = decimal // 2\n",
        "  result = str(remainder) + result\n",
        "print(result)"
      ],
      "execution_count": 0,
      "outputs": [
        {
          "output_type": "stream",
          "text": [
            "1010\n"
          ],
          "name": "stdout"
        }
      ]
    },
    {
      "cell_type": "code",
      "metadata": {
        "id": "fWctaeiD03vG",
        "colab_type": "code",
        "outputId": "35af414e-df23-4d8b-eaf7-e837b5e49f70",
        "colab": {
          "base_uri": "https://localhost:8080/",
          "height": 130
        }
      },
      "source": [
        "x = 2\n",
        " y = 5\n",
        "print(x+y)"
      ],
      "execution_count": 0,
      "outputs": [
        {
          "output_type": "error",
          "ename": "IndentationError",
          "evalue": "ignored",
          "traceback": [
            "\u001b[0;36m  File \u001b[0;32m\"<ipython-input-29-867a2264483c>\"\u001b[0;36m, line \u001b[0;32m2\u001b[0m\n\u001b[0;31m    y = 5\u001b[0m\n\u001b[0m    ^\u001b[0m\n\u001b[0;31mIndentationError\u001b[0m\u001b[0;31m:\u001b[0m unexpected indent\n"
          ]
        }
      ]
    },
    {
      "cell_type": "code",
      "metadata": {
        "id": "NIrm9If70-yO",
        "colab_type": "code",
        "outputId": "bc98dc22-4ecb-405b-9622-ebcda2959507",
        "colab": {
          "base_uri": "https://localhost:8080/",
          "height": 198
        }
      },
      "source": [
        "pront(x+y)\n",
        "korean = \"ACE\"\n",
        "print(Korean)"
      ],
      "execution_count": 0,
      "outputs": [
        {
          "output_type": "error",
          "ename": "NameError",
          "evalue": "ignored",
          "traceback": [
            "\u001b[0;31m---------------------------------------------------------------------------\u001b[0m",
            "\u001b[0;31mNameError\u001b[0m                                 Traceback (most recent call last)",
            "\u001b[0;32m<ipython-input-30-ef1956c0fbd2>\u001b[0m in \u001b[0;36m<module>\u001b[0;34m()\u001b[0m\n\u001b[0;32m----> 1\u001b[0;31m \u001b[0mpront\u001b[0m\u001b[0;34m(\u001b[0m\u001b[0mx\u001b[0m\u001b[0;34m+\u001b[0m\u001b[0my\u001b[0m\u001b[0;34m)\u001b[0m\u001b[0;34m\u001b[0m\u001b[0;34m\u001b[0m\u001b[0m\n\u001b[0m\u001b[1;32m      2\u001b[0m \u001b[0mkorean\u001b[0m \u001b[0;34m=\u001b[0m \u001b[0;34m\"ACE\"\u001b[0m\u001b[0;34m\u001b[0m\u001b[0;34m\u001b[0m\u001b[0m\n\u001b[1;32m      3\u001b[0m \u001b[0mprint\u001b[0m\u001b[0;34m(\u001b[0m\u001b[0mKorean\u001b[0m\u001b[0;34m)\u001b[0m\u001b[0;34m\u001b[0m\u001b[0;34m\u001b[0m\u001b[0m\n",
            "\u001b[0;31mNameError\u001b[0m: name 'pront' is not defined"
          ]
        }
      ]
    },
    {
      "cell_type": "code",
      "metadata": {
        "id": "ACbX5sLk1GGA",
        "colab_type": "code",
        "outputId": "aa88e9a4-3426-43f1-8f4f-3477db04903a",
        "colab": {
          "base_uri": "https://localhost:8080/",
          "height": 68
        }
      },
      "source": [
        "def addition(x, y):\n",
        "  return x + y\n",
        "\n",
        "def multiplication(x, y):\n",
        "  return x * y\n",
        "\n",
        "def divied_by_2(x):\n",
        "  return x / 2\n",
        "\n",
        "print(addition(3, 4))\n",
        "print(multiplication(3, 4))\n",
        "print(divied_by_2(4))"
      ],
      "execution_count": 0,
      "outputs": [
        {
          "output_type": "stream",
          "text": [
            "7\n",
            "12\n",
            "2.0\n"
          ],
          "name": "stdout"
        }
      ]
    },
    {
      "cell_type": "code",
      "metadata": {
        "id": "xgfanaRP1jrL",
        "colab_type": "code",
        "outputId": "a41c3e69-8085-476d-bc0c-2fa68d6cf2e6",
        "colab": {
          "base_uri": "https://localhost:8080/",
          "height": 85
        }
      },
      "source": [
        "def addition(x, y):\n",
        "  return x + y\n",
        "\n",
        "def divied_by_2(x):\n",
        "  return x / 2\n",
        "\n",
        "base_line = float(input(\"밑변의 길이는 ?\"))\n",
        "upper_edge = float(input(\"윗변의 길이는?\"))\n",
        "height = float(input(\"높이는 ?\"))\n",
        "\n",
        "print(\"넓이는:\",divied_by_2(addition(base_line, upper_edge) * height))"
      ],
      "execution_count": 0,
      "outputs": [
        {
          "output_type": "stream",
          "text": [
            "밑변의 길이는 ?5\n",
            "윗변의 길이는?4\n",
            "높이는 ?3\n",
            "넓이는: 13.5\n"
          ],
          "name": "stdout"
        }
      ]
    },
    {
      "cell_type": "code",
      "metadata": {
        "id": "pO2V5Wyj2G9L",
        "colab_type": "code",
        "colab": {}
      },
      "source": [
        ""
      ],
      "execution_count": 0,
      "outputs": []
    }
  ]
}