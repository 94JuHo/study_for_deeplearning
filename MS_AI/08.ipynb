{
  "nbformat": 4,
  "nbformat_minor": 0,
  "metadata": {
    "kernelspec": {
      "display_name": "Python 3",
      "language": "python",
      "name": "python3"
    },
    "language_info": {
      "codemirror_mode": {
        "name": "ipython",
        "version": 3
      },
      "file_extension": ".py",
      "mimetype": "text/x-python",
      "name": "python",
      "nbconvert_exporter": "python",
      "pygments_lexer": "ipython3",
      "version": "3.7.4"
    },
    "colab": {
      "name": "08.ipynb",
      "provenance": [],
      "collapsed_sections": [],
      "include_colab_link": true
    }
  },
  "cells": [
    {
      "cell_type": "markdown",
      "metadata": {
        "id": "view-in-github",
        "colab_type": "text"
      },
      "source": [
        "<a href=\"https://colab.research.google.com/github/94JuHo/study_for_deeplearning/blob/master/MS_AI/08.ipynb\" target=\"_parent\"><img src=\"https://colab.research.google.com/assets/colab-badge.svg\" alt=\"Open In Colab\"/></a>"
      ]
    },
    {
      "cell_type": "code",
      "metadata": {
        "id": "I6QtirGRHffS",
        "colab_type": "code",
        "outputId": "8a284659-ec83-4182-a1ea-4d2a25bb73d6",
        "colab": {
          "base_uri": "https://localhost:8080/",
          "height": 34
        }
      },
      "source": [
        "items = 'zero one tow three'.split()\n",
        "print(items)"
      ],
      "execution_count": 0,
      "outputs": [
        {
          "output_type": "stream",
          "text": [
            "['zero', 'one', 'tow', 'three']\n"
          ],
          "name": "stdout"
        }
      ]
    },
    {
      "cell_type": "code",
      "metadata": {
        "id": "7D-xZlT1HffZ",
        "colab_type": "code",
        "outputId": "ab25269a-9f81-45ae-f5c4-915f64b813a4",
        "colab": {
          "base_uri": "https://localhost:8080/",
          "height": 68
        }
      },
      "source": [
        "example = 'python,jquery,javascript'\n",
        "print(example.split(','))\n",
        "a, b, c = example.split(',')\n",
        "print(a, b, c)\n",
        "example = 'thetheamlab.univ.edu'\n",
        "subdomain, domain, tld = example.split('.')\n",
        "print(subdomain, domain, tld)"
      ],
      "execution_count": 0,
      "outputs": [
        {
          "output_type": "stream",
          "text": [
            "['python', 'jquery', 'javascript']\n",
            "python jquery javascript\n",
            "thetheamlab univ edu\n"
          ],
          "name": "stdout"
        }
      ]
    },
    {
      "cell_type": "code",
      "metadata": {
        "id": "wl10DDkGHffd",
        "colab_type": "code",
        "outputId": "c7ce00ac-c0a7-490c-c981-e42c8042c0a6",
        "colab": {
          "base_uri": "https://localhost:8080/",
          "height": 34
        }
      },
      "source": [
        "colors = ['red', 'blue', 'green', 'yellow']\n",
        "result = ''.join(colors)\n",
        "result"
      ],
      "execution_count": 0,
      "outputs": [
        {
          "output_type": "execute_result",
          "data": {
            "text/plain": [
              "'redbluegreenyellow'"
            ]
          },
          "metadata": {
            "tags": []
          },
          "execution_count": 4
        }
      ]
    },
    {
      "cell_type": "code",
      "metadata": {
        "id": "KRAWtoDsHffh",
        "colab_type": "code",
        "outputId": "4ce2f895-c0a8-4f91-e1aa-ca0a7f1ae689",
        "colab": {
          "base_uri": "https://localhost:8080/",
          "height": 34
        }
      },
      "source": [
        "result = ' '.join(colors)\n",
        "result"
      ],
      "execution_count": 0,
      "outputs": [
        {
          "output_type": "execute_result",
          "data": {
            "text/plain": [
              "'red blue green yellow'"
            ]
          },
          "metadata": {
            "tags": []
          },
          "execution_count": 5
        }
      ]
    },
    {
      "cell_type": "code",
      "metadata": {
        "id": "sPDzJUE8Hffj",
        "colab_type": "code",
        "outputId": "b16a1995-c00f-49b8-bcdd-7fbf39de83f5",
        "colab": {
          "base_uri": "https://localhost:8080/",
          "height": 34
        }
      },
      "source": [
        "result = ', '.join(colors)\n",
        "result"
      ],
      "execution_count": 0,
      "outputs": [
        {
          "output_type": "execute_result",
          "data": {
            "text/plain": [
              "'red, blue, green, yellow'"
            ]
          },
          "metadata": {
            "tags": []
          },
          "execution_count": 6
        }
      ]
    },
    {
      "cell_type": "code",
      "metadata": {
        "id": "5h-S6qxHHffm",
        "colab_type": "code",
        "outputId": "753d62d7-71be-4888-9dfc-079d79752ace",
        "colab": {
          "base_uri": "https://localhost:8080/",
          "height": 34
        }
      },
      "source": [
        "result = '-'.join(colors)\n",
        "result"
      ],
      "execution_count": 0,
      "outputs": [
        {
          "output_type": "execute_result",
          "data": {
            "text/plain": [
              "'red-blue-green-yellow'"
            ]
          },
          "metadata": {
            "tags": []
          },
          "execution_count": 7
        }
      ]
    },
    {
      "cell_type": "code",
      "metadata": {
        "id": "_tNIR0GeHffo",
        "colab_type": "code",
        "outputId": "21aac08a-ca47-4a1f-987a-2dd91e54d445",
        "colab": {
          "base_uri": "https://localhost:8080/",
          "height": 34
        }
      },
      "source": [
        "result = []\n",
        "for i in range(10):\n",
        "    result.append(i)\n",
        "result"
      ],
      "execution_count": 0,
      "outputs": [
        {
          "output_type": "execute_result",
          "data": {
            "text/plain": [
              "[0, 1, 2, 3, 4, 5, 6, 7, 8, 9]"
            ]
          },
          "metadata": {
            "tags": []
          },
          "execution_count": 8
        }
      ]
    },
    {
      "cell_type": "code",
      "metadata": {
        "id": "f_RF2UZHHffp",
        "colab_type": "code",
        "outputId": "1087dd64-a4d6-4766-8799-ecde4d12a3bf",
        "colab": {
          "base_uri": "https://localhost:8080/",
          "height": 34
        }
      },
      "source": [
        "result = [i for i in range(10)]\n",
        "result"
      ],
      "execution_count": 0,
      "outputs": [
        {
          "output_type": "execute_result",
          "data": {
            "text/plain": [
              "[0, 1, 2, 3, 4, 5, 6, 7, 8, 9]"
            ]
          },
          "metadata": {
            "tags": []
          },
          "execution_count": 9
        }
      ]
    },
    {
      "cell_type": "code",
      "metadata": {
        "id": "h0hcBohNHffq",
        "colab_type": "code",
        "outputId": "5ba08114-0a87-41f0-f507-0112058f0761",
        "colab": {
          "base_uri": "https://localhost:8080/",
          "height": 34
        }
      },
      "source": [
        "result = []\n",
        "for i in range(10):\n",
        "    if i % 2 == 0:\n",
        "        result.append(i)\n",
        "result"
      ],
      "execution_count": 0,
      "outputs": [
        {
          "output_type": "execute_result",
          "data": {
            "text/plain": [
              "[0, 2, 4, 6, 8]"
            ]
          },
          "metadata": {
            "tags": []
          },
          "execution_count": 10
        }
      ]
    },
    {
      "cell_type": "code",
      "metadata": {
        "id": "GDn2dNDoHffs",
        "colab_type": "code",
        "outputId": "a10040ce-123f-4dc4-a0e2-9a9cb467aaef",
        "colab": {
          "base_uri": "https://localhost:8080/",
          "height": 34
        }
      },
      "source": [
        "result = [i for i in range(10) if i % 2 == 0]\n",
        "result"
      ],
      "execution_count": 0,
      "outputs": [
        {
          "output_type": "execute_result",
          "data": {
            "text/plain": [
              "[0, 2, 4, 6, 8]"
            ]
          },
          "metadata": {
            "tags": []
          },
          "execution_count": 11
        }
      ]
    },
    {
      "cell_type": "code",
      "metadata": {
        "id": "CGp2eSTcHfft",
        "colab_type": "code",
        "outputId": "24762843-2386-4635-8355-936525892453",
        "colab": {
          "base_uri": "https://localhost:8080/",
          "height": 34
        }
      },
      "source": [
        "result = [i if i % 2 == 0 else 10 for i in range(10)]\n",
        "result"
      ],
      "execution_count": 0,
      "outputs": [
        {
          "output_type": "execute_result",
          "data": {
            "text/plain": [
              "[0, 10, 2, 10, 4, 10, 6, 10, 8, 10]"
            ]
          },
          "metadata": {
            "tags": []
          },
          "execution_count": 12
        }
      ]
    },
    {
      "cell_type": "code",
      "metadata": {
        "id": "p6dnnX6KHffu",
        "colab_type": "code",
        "outputId": "4459ccc2-fc4f-43fc-9f7c-fef3971f08a5",
        "colab": {
          "base_uri": "https://localhost:8080/",
          "height": 442
        }
      },
      "source": [
        "word_1 = 'Hello'\n",
        "word_2 = 'World'\n",
        "result = [i+j for i in word_1 for j in word_2]\n",
        "result"
      ],
      "execution_count": 0,
      "outputs": [
        {
          "output_type": "execute_result",
          "data": {
            "text/plain": [
              "['HW',\n",
              " 'Ho',\n",
              " 'Hr',\n",
              " 'Hl',\n",
              " 'Hd',\n",
              " 'eW',\n",
              " 'eo',\n",
              " 'er',\n",
              " 'el',\n",
              " 'ed',\n",
              " 'lW',\n",
              " 'lo',\n",
              " 'lr',\n",
              " 'll',\n",
              " 'ld',\n",
              " 'lW',\n",
              " 'lo',\n",
              " 'lr',\n",
              " 'll',\n",
              " 'ld',\n",
              " 'oW',\n",
              " 'oo',\n",
              " 'or',\n",
              " 'ol',\n",
              " 'od']"
            ]
          },
          "metadata": {
            "tags": []
          },
          "execution_count": 13
        }
      ]
    },
    {
      "cell_type": "code",
      "metadata": {
        "id": "x5bVDZykHffv",
        "colab_type": "code",
        "outputId": "fbc9eb8e-1062-4cbd-bddd-c4d57dcf4689",
        "colab": {
          "base_uri": "https://localhost:8080/",
          "height": 34
        }
      },
      "source": [
        "case_1 = ['A', 'B', 'C']\n",
        "case_2 = ['D', 'E', 'A']\n",
        "result = [i+j for i in case_1 for j in case_2 if not(i==j)]\n",
        "result"
      ],
      "execution_count": 0,
      "outputs": [
        {
          "output_type": "execute_result",
          "data": {
            "text/plain": [
              "['AD', 'AE', 'BD', 'BE', 'BA', 'CD', 'CE', 'CA']"
            ]
          },
          "metadata": {
            "tags": []
          },
          "execution_count": 14
        }
      ]
    },
    {
      "cell_type": "code",
      "metadata": {
        "id": "KkOqIzu6Hffw",
        "colab_type": "code",
        "outputId": "8527d55e-c16e-4b11-ad2e-a2afd4a4d05c",
        "colab": {
          "base_uri": "https://localhost:8080/",
          "height": 34
        }
      },
      "source": [
        "words = 'The quick brown fox jumps over the lazy dog'.split()\n",
        "print(words)\n",
        "stuff = [[w.upper(), w.lower(), len(w)] for w in words]"
      ],
      "execution_count": 0,
      "outputs": [
        {
          "output_type": "stream",
          "text": [
            "['The', 'quick', 'brown', 'fox', 'jumps', 'over', 'the', 'lazy', 'dog']\n"
          ],
          "name": "stdout"
        }
      ]
    },
    {
      "cell_type": "code",
      "metadata": {
        "id": "wfNEqz4GHffx",
        "colab_type": "code",
        "outputId": "13956252-4388-4b3c-adea-2aa25b33cc73",
        "colab": {
          "base_uri": "https://localhost:8080/",
          "height": 170
        }
      },
      "source": [
        "for i in stuff:\n",
        "    print(i)"
      ],
      "execution_count": 0,
      "outputs": [
        {
          "output_type": "stream",
          "text": [
            "['THE', 'the', 3]\n",
            "['QUICK', 'quick', 5]\n",
            "['BROWN', 'brown', 5]\n",
            "['FOX', 'fox', 3]\n",
            "['JUMPS', 'jumps', 5]\n",
            "['OVER', 'over', 4]\n",
            "['THE', 'the', 3]\n",
            "['LAZY', 'lazy', 4]\n",
            "['DOG', 'dog', 3]\n"
          ],
          "name": "stdout"
        }
      ]
    },
    {
      "cell_type": "code",
      "metadata": {
        "id": "tcCB6npkHffy",
        "colab_type": "code",
        "outputId": "117891c5-2010-40ac-e2ba-dade2cc9e9a5",
        "colab": {
          "base_uri": "https://localhost:8080/",
          "height": 34
        }
      },
      "source": [
        "case_1 = ['A', 'B', 'C']\n",
        "case_2 = ['D', 'E', 'A']\n",
        "result = [i+j for i in case_1 for j in case_2 if not(i==j)]\n",
        "result"
      ],
      "execution_count": 0,
      "outputs": [
        {
          "output_type": "execute_result",
          "data": {
            "text/plain": [
              "['AD', 'AE', 'BD', 'BE', 'BA', 'CD', 'CE', 'CA']"
            ]
          },
          "metadata": {
            "tags": []
          },
          "execution_count": 17
        }
      ]
    },
    {
      "cell_type": "code",
      "metadata": {
        "id": "GNMcnZIkHffz",
        "colab_type": "code",
        "outputId": "252a6809-8d6b-4250-9514-60d63faf4da0",
        "colab": {
          "base_uri": "https://localhost:8080/",
          "height": 34
        }
      },
      "source": [
        "result = [[i+j for i in case_1] for j in case_2]\n",
        "result"
      ],
      "execution_count": 0,
      "outputs": [
        {
          "output_type": "execute_result",
          "data": {
            "text/plain": [
              "[['AD', 'BD', 'CD'], ['AE', 'BE', 'CE'], ['AA', 'BA', 'CA']]"
            ]
          },
          "metadata": {
            "tags": []
          },
          "execution_count": 18
        }
      ]
    },
    {
      "cell_type": "code",
      "metadata": {
        "id": "mZrjw550Hff0",
        "colab_type": "code",
        "outputId": "e5a4c3e1-127e-4a9b-c33c-a9c2814ba04a",
        "colab": {
          "base_uri": "https://localhost:8080/",
          "height": 34
        }
      },
      "source": [
        "import time\n",
        "\n",
        "def sclar_vector_product(scalar, vector):\n",
        "    result = []\n",
        "    for value in vector:\n",
        "        result.append(scalar * value)\n",
        "    return result\n",
        "\n",
        "iteration_max = 10000\n",
        "\n",
        "vector = list(range(iteration_max))\n",
        "scalar = 2\n",
        "\n",
        "start = time.time()\n",
        "\n",
        "for _ in range(iteration_max):\n",
        "    sclar_vector_product(scalar, vector)\n",
        "print(\"time : \", time.time() - start)"
      ],
      "execution_count": 0,
      "outputs": [
        {
          "output_type": "stream",
          "text": [
            "time :  8.134945392608643\n"
          ],
          "name": "stdout"
        }
      ]
    },
    {
      "cell_type": "code",
      "metadata": {
        "id": "NCLuK-wpHff1",
        "colab_type": "code",
        "outputId": "779553c4-a5bb-4d1b-9561-4ab1851aad98",
        "colab": {
          "base_uri": "https://localhost:8080/",
          "height": 34
        }
      },
      "source": [
        "import time\n",
        "\n",
        "iteration_max = 10000\n",
        "\n",
        "vector = list(range(iteration_max))\n",
        "scalar = 2\n",
        "\n",
        "start = time.time()\n",
        "\n",
        "for _ in range(iteration_max):\n",
        "    [scalar * value for value in range(iteration_max)]\n",
        "print(\"time : \", time.time() - start)"
      ],
      "execution_count": 0,
      "outputs": [
        {
          "output_type": "stream",
          "text": [
            "time :  6.132210969924927\n"
          ],
          "name": "stdout"
        }
      ]
    },
    {
      "cell_type": "code",
      "metadata": {
        "id": "AnZwkvn7Hff1",
        "colab_type": "code",
        "outputId": "8a5f987e-909c-44f1-a1b0-1298b11be6fb",
        "colab": {
          "base_uri": "https://localhost:8080/",
          "height": 68
        }
      },
      "source": [
        "for i, v in enumerate(['tic', 'tac', 'toe']):\n",
        "    print(i, v)"
      ],
      "execution_count": 0,
      "outputs": [
        {
          "output_type": "stream",
          "text": [
            "0 tic\n",
            "1 tac\n",
            "2 toe\n"
          ],
          "name": "stdout"
        }
      ]
    },
    {
      "cell_type": "code",
      "metadata": {
        "id": "FMY7J5maHff2",
        "colab_type": "code",
        "outputId": "2ee56935-f531-4507-c1f4-bf8096b63d13",
        "colab": {
          "base_uri": "https://localhost:8080/",
          "height": 170
        }
      },
      "source": [
        "{i:j for i, j in enumerate('TEAMLAB is an academic institute located in South Korea.'.split())}"
      ],
      "execution_count": 0,
      "outputs": [
        {
          "output_type": "execute_result",
          "data": {
            "text/plain": [
              "{0: 'TEAMLAB',\n",
              " 1: 'is',\n",
              " 2: 'an',\n",
              " 3: 'academic',\n",
              " 4: 'institute',\n",
              " 5: 'located',\n",
              " 6: 'in',\n",
              " 7: 'South',\n",
              " 8: 'Korea.'}"
            ]
          },
          "metadata": {
            "tags": []
          },
          "execution_count": 22
        }
      ]
    },
    {
      "cell_type": "code",
      "metadata": {
        "id": "h-oVRZsbHff3",
        "colab_type": "code",
        "outputId": "3a6c2418-44ee-4e17-d6cb-38a95f79195a",
        "colab": {
          "base_uri": "https://localhost:8080/",
          "height": 68
        }
      },
      "source": [
        "alist = ['a1', 'a2', 'a3']\n",
        "blist = ['b1', 'b2', 'b3']\n",
        "for a, b in zip(alist, blist):\n",
        "    print(a, b)"
      ],
      "execution_count": 0,
      "outputs": [
        {
          "output_type": "stream",
          "text": [
            "a1 b1\n",
            "a2 b2\n",
            "a3 b3\n"
          ],
          "name": "stdout"
        }
      ]
    },
    {
      "cell_type": "code",
      "metadata": {
        "id": "0esP8mDZHff4",
        "colab_type": "code",
        "outputId": "1e8e8297-8849-40f1-c4f9-742ef15d831e",
        "colab": {
          "base_uri": "https://localhost:8080/",
          "height": 34
        }
      },
      "source": [
        "a, b, c = zip((1, 2, 3), (10, 20, 30), (100, 200, 300))\n",
        "print(a, b, c)"
      ],
      "execution_count": 0,
      "outputs": [
        {
          "output_type": "stream",
          "text": [
            "(1, 10, 100) (2, 20, 200) (3, 30, 300)\n"
          ],
          "name": "stdout"
        }
      ]
    },
    {
      "cell_type": "code",
      "metadata": {
        "id": "R7Lbm3U7Hff5",
        "colab_type": "code",
        "outputId": "ebf45f1a-0a92-4344-ebc9-0f5e86d1f9f4",
        "colab": {
          "base_uri": "https://localhost:8080/",
          "height": 34
        }
      },
      "source": [
        "[sum(x) for x in zip((1, 2,3 ), (10, 20, 30), (100, 200, 300))]"
      ],
      "execution_count": 0,
      "outputs": [
        {
          "output_type": "execute_result",
          "data": {
            "text/plain": [
              "[111, 222, 333]"
            ]
          },
          "metadata": {
            "tags": []
          },
          "execution_count": 25
        }
      ]
    },
    {
      "cell_type": "code",
      "metadata": {
        "id": "8IAKjY0XHff6",
        "colab_type": "code",
        "outputId": "0de2c007-72d5-4b7e-b4bd-6220da5c8929",
        "colab": {
          "base_uri": "https://localhost:8080/",
          "height": 68
        }
      },
      "source": [
        "alist = ['a1', 'a2', 'a3']\n",
        "blist = ['b1', 'b2', 'b3']\n",
        "for i, (a, b) in enumerate(zip(alist, blist)):\n",
        "    print(i,a, b)"
      ],
      "execution_count": 0,
      "outputs": [
        {
          "output_type": "stream",
          "text": [
            "0 a1 b1\n",
            "1 a2 b2\n",
            "2 a3 b3\n"
          ],
          "name": "stdout"
        }
      ]
    },
    {
      "cell_type": "code",
      "metadata": {
        "id": "OcHGeV1kHff6",
        "colab_type": "code",
        "colab": {}
      },
      "source": [
        ""
      ],
      "execution_count": 0,
      "outputs": []
    }
  ]
}