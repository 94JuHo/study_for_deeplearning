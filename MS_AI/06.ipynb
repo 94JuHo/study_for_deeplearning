{
  "nbformat": 4,
  "nbformat_minor": 0,
  "metadata": {
    "colab": {
      "name": "06.ipynb",
      "provenance": [],
      "collapsed_sections": [],
      "include_colab_link": true
    },
    "kernelspec": {
      "name": "python3",
      "display_name": "Python 3"
    }
  },
  "cells": [
    {
      "cell_type": "markdown",
      "metadata": {
        "id": "view-in-github",
        "colab_type": "text"
      },
      "source": [
        "<a href=\"https://colab.research.google.com/github/94JuHo/study_for_deeplearning/blob/master/MS_AI/06.ipynb\" target=\"_parent\"><img src=\"https://colab.research.google.com/assets/colab-badge.svg\" alt=\"Open In Colab\"/></a>"
      ]
    },
    {
      "cell_type": "code",
      "metadata": {
        "id": "UZNVD5LoClib",
        "colab_type": "code",
        "outputId": "3c587dc3-b5f1-4fba-bac9-58dc776f83ac",
        "colab": {
          "base_uri": "https://localhost:8080/",
          "height": 34
        }
      },
      "source": [
        "import sys\n",
        "print(sys.getsizeof(\"a\"), sys.getsizeof(\"ab\"), sys.getsizeof(\"abc\"))"
      ],
      "execution_count": 0,
      "outputs": [
        {
          "output_type": "stream",
          "text": [
            "58 51 52\n"
          ],
          "name": "stdout"
        }
      ]
    },
    {
      "cell_type": "code",
      "metadata": {
        "id": "2-2QLAnrC5YZ",
        "colab_type": "code",
        "outputId": "46a265fc-b943-4bb8-cfff-e8be6ea14830",
        "colab": {
          "base_uri": "https://localhost:8080/",
          "height": 34
        }
      },
      "source": [
        "a = \"abcde\"\n",
        "print(a[0], a[4])"
      ],
      "execution_count": 0,
      "outputs": [
        {
          "output_type": "stream",
          "text": [
            "a e\n"
          ],
          "name": "stdout"
        }
      ]
    },
    {
      "cell_type": "code",
      "metadata": {
        "id": "jrhuv1f4DGHe",
        "colab_type": "code",
        "outputId": "38db6c2f-0d2a-4603-a2a8-cd5ec82db8f1",
        "colab": {
          "base_uri": "https://localhost:8080/",
          "height": 34
        }
      },
      "source": [
        "print(a[-1], a[-5])"
      ],
      "execution_count": 0,
      "outputs": [
        {
          "output_type": "stream",
          "text": [
            "e a\n"
          ],
          "name": "stdout"
        }
      ]
    },
    {
      "cell_type": "code",
      "metadata": {
        "id": "qSxLQsZ5DH-6",
        "colab_type": "code",
        "outputId": "ccb87f81-4a4e-40cb-ac1e-38a1092f1825",
        "colab": {
          "base_uri": "https://localhost:8080/",
          "height": 34
        }
      },
      "source": [
        "a = \"TEAMLAB MOOC, AWESOME Python\"\n",
        "print(a[0:6], \"AND \", a[-9:])"
      ],
      "execution_count": 0,
      "outputs": [
        {
          "output_type": "stream",
          "text": [
            "TEAMLA AND  ME Python\n"
          ],
          "name": "stdout"
        }
      ]
    },
    {
      "cell_type": "code",
      "metadata": {
        "id": "1qmuGhXFDPRU",
        "colab_type": "code",
        "outputId": "5241dfe8-ae75-40fa-aeed-27c6f44f0000",
        "colab": {
          "base_uri": "https://localhost:8080/",
          "height": 34
        }
      },
      "source": [
        "print(a[:])"
      ],
      "execution_count": 0,
      "outputs": [
        {
          "output_type": "stream",
          "text": [
            "TEAMLAB MOOC, AWESOME Python\n"
          ],
          "name": "stdout"
        }
      ]
    },
    {
      "cell_type": "code",
      "metadata": {
        "id": "nft9epZSDQ5u",
        "colab_type": "code",
        "outputId": "e8d2e96d-9ea4-470f-f78c-daad222b02f9",
        "colab": {
          "base_uri": "https://localhost:8080/",
          "height": 34
        }
      },
      "source": [
        "print(a[-50:50])"
      ],
      "execution_count": 0,
      "outputs": [
        {
          "output_type": "stream",
          "text": [
            "TEAMLAB MOOC, AWESOME Python\n"
          ],
          "name": "stdout"
        }
      ]
    },
    {
      "cell_type": "code",
      "metadata": {
        "id": "9-omIC0cDTG4",
        "colab_type": "code",
        "outputId": "a6dd60b0-31f3-493b-bb3a-5b3679ded3fa",
        "colab": {
          "base_uri": "https://localhost:8080/",
          "height": 34
        }
      },
      "source": [
        "print(a[::2], \"AND\",a[::-1])"
      ],
      "execution_count": 0,
      "outputs": [
        {
          "output_type": "stream",
          "text": [
            "TALBMO,AEOEPto AND nohtyP EMOSEWA ,COOM BALMAET\n"
          ],
          "name": "stdout"
        }
      ]
    },
    {
      "cell_type": "code",
      "metadata": {
        "id": "bEodn_EmDXBa",
        "colab_type": "code",
        "outputId": "ad2969b8-7d28-43ca-d947-1341844c5cf8",
        "colab": {
          "base_uri": "https://localhost:8080/",
          "height": 34
        }
      },
      "source": [
        "a = \"TEAM\"\n",
        "b = \"LAB\"\n",
        "print(a+\" \"+b)"
      ],
      "execution_count": 0,
      "outputs": [
        {
          "output_type": "stream",
          "text": [
            "TEAM LAB\n"
          ],
          "name": "stdout"
        }
      ]
    },
    {
      "cell_type": "code",
      "metadata": {
        "id": "Dds7Da5oDdVK",
        "colab_type": "code",
        "outputId": "4621f060-69a7-4477-e559-b3cb5df34e15",
        "colab": {
          "base_uri": "https://localhost:8080/",
          "height": 34
        }
      },
      "source": [
        "print(a*2+' '+b*2)"
      ],
      "execution_count": 0,
      "outputs": [
        {
          "output_type": "stream",
          "text": [
            "TEAMTEAM LABLAB\n"
          ],
          "name": "stdout"
        }
      ]
    },
    {
      "cell_type": "code",
      "metadata": {
        "id": "v2rDwbc_Dhjg",
        "colab_type": "code",
        "outputId": "5e84a892-f277-4ed2-8da4-6677aed0841b",
        "colab": {
          "base_uri": "https://localhost:8080/",
          "height": 34
        }
      },
      "source": [
        "if 'A' in a: print(a)\n",
        "else: print(b)"
      ],
      "execution_count": 0,
      "outputs": [
        {
          "output_type": "stream",
          "text": [
            "TEAM\n"
          ],
          "name": "stdout"
        }
      ]
    },
    {
      "cell_type": "code",
      "metadata": {
        "id": "pDC1M5NODl6F",
        "colab_type": "code",
        "outputId": "b8bd1cef-d51b-49aa-c998-0dc924b2d3c8",
        "colab": {
          "base_uri": "https://localhost:8080/",
          "height": 181
        }
      },
      "source": [
        "int_value = 2\n",
        "print(\"결과는:\"+int_value)"
      ],
      "execution_count": 0,
      "outputs": [
        {
          "output_type": "error",
          "ename": "TypeError",
          "evalue": "ignored",
          "traceback": [
            "\u001b[0;31m---------------------------------------------------------------------------\u001b[0m",
            "\u001b[0;31mTypeError\u001b[0m                                 Traceback (most recent call last)",
            "\u001b[0;32m<ipython-input-12-6e9ed29a21b3>\u001b[0m in \u001b[0;36m<module>\u001b[0;34m()\u001b[0m\n\u001b[1;32m      1\u001b[0m \u001b[0mint_value\u001b[0m \u001b[0;34m=\u001b[0m \u001b[0;36m2\u001b[0m\u001b[0;34m\u001b[0m\u001b[0;34m\u001b[0m\u001b[0m\n\u001b[0;32m----> 2\u001b[0;31m \u001b[0mprint\u001b[0m\u001b[0;34m(\u001b[0m\u001b[0;34m\"결과는:\"\u001b[0m\u001b[0;34m+\u001b[0m\u001b[0mint_value\u001b[0m\u001b[0;34m)\u001b[0m\u001b[0;34m\u001b[0m\u001b[0;34m\u001b[0m\u001b[0m\n\u001b[0m",
            "\u001b[0;31mTypeError\u001b[0m: must be str, not int"
          ]
        }
      ]
    },
    {
      "cell_type": "code",
      "metadata": {
        "id": "ZL3BVKaaDr12",
        "colab_type": "code",
        "outputId": "78a6263e-6458-44cc-8c53-6c5646cdb85d",
        "colab": {
          "base_uri": "https://localhost:8080/",
          "height": 34
        }
      },
      "source": [
        "title = \"TEAMLAB X Inflearn\"\n",
        "title.upper()"
      ],
      "execution_count": 0,
      "outputs": [
        {
          "output_type": "execute_result",
          "data": {
            "text/plain": [
              "'TEAMLAB X INFLEARN'"
            ]
          },
          "metadata": {
            "tags": []
          },
          "execution_count": 13
        }
      ]
    },
    {
      "cell_type": "code",
      "metadata": {
        "id": "V08CtDxFDzhn",
        "colab_type": "code",
        "outputId": "fed32666-8f22-4335-f7de-92dd92a8aae9",
        "colab": {
          "base_uri": "https://localhost:8080/",
          "height": 34
        }
      },
      "source": [
        "title.lower()\n"
      ],
      "execution_count": 0,
      "outputs": [
        {
          "output_type": "execute_result",
          "data": {
            "text/plain": [
              "'teamlab x inflearn'"
            ]
          },
          "metadata": {
            "tags": []
          },
          "execution_count": 14
        }
      ]
    },
    {
      "cell_type": "code",
      "metadata": {
        "id": "6q9uXwaOD0xA",
        "colab_type": "code",
        "outputId": "a64c8be7-4d1b-4976-ed34-c12e35d73b75",
        "colab": {
          "base_uri": "https://localhost:8080/",
          "height": 34
        }
      },
      "source": [
        "title.title()"
      ],
      "execution_count": 0,
      "outputs": [
        {
          "output_type": "execute_result",
          "data": {
            "text/plain": [
              "'Teamlab X Inflearn'"
            ]
          },
          "metadata": {
            "tags": []
          },
          "execution_count": 15
        }
      ]
    },
    {
      "cell_type": "code",
      "metadata": {
        "id": "7dpXy7gmD3RR",
        "colab_type": "code",
        "outputId": "9328969c-b02d-4f69-851e-0e31a4d73010",
        "colab": {
          "base_uri": "https://localhost:8080/",
          "height": 34
        }
      },
      "source": [
        "title.capitalize()"
      ],
      "execution_count": 0,
      "outputs": [
        {
          "output_type": "execute_result",
          "data": {
            "text/plain": [
              "'Teamlab x inflearn'"
            ]
          },
          "metadata": {
            "tags": []
          },
          "execution_count": 16
        }
      ]
    },
    {
      "cell_type": "code",
      "metadata": {
        "id": "8Vy1w4WLD7Ip",
        "colab_type": "code",
        "outputId": "96e3a532-61f3-4611-cd55-4ff877ad32e8",
        "colab": {
          "base_uri": "https://localhost:8080/",
          "height": 34
        }
      },
      "source": [
        "title.count(\"a\")"
      ],
      "execution_count": 0,
      "outputs": [
        {
          "output_type": "execute_result",
          "data": {
            "text/plain": [
              "1"
            ]
          },
          "metadata": {
            "tags": []
          },
          "execution_count": 17
        }
      ]
    },
    {
      "cell_type": "code",
      "metadata": {
        "id": "aS2pDfv1D998",
        "colab_type": "code",
        "outputId": "0016eb32-bbf2-41e6-dfa3-b9e7e36a6bd4",
        "colab": {
          "base_uri": "https://localhost:8080/",
          "height": 34
        }
      },
      "source": [
        "title.upper().count(\"a\")"
      ],
      "execution_count": 0,
      "outputs": [
        {
          "output_type": "execute_result",
          "data": {
            "text/plain": [
              "0"
            ]
          },
          "metadata": {
            "tags": []
          },
          "execution_count": 18
        }
      ]
    },
    {
      "cell_type": "code",
      "metadata": {
        "id": "EH-0J4YhD_iX",
        "colab_type": "code",
        "outputId": "d3695a82-ea05-4b6b-bbbf-c7fd2e882b64",
        "colab": {
          "base_uri": "https://localhost:8080/",
          "height": 34
        }
      },
      "source": [
        "title.isdigit()"
      ],
      "execution_count": 0,
      "outputs": [
        {
          "output_type": "execute_result",
          "data": {
            "text/plain": [
              "False"
            ]
          },
          "metadata": {
            "tags": []
          },
          "execution_count": 19
        }
      ]
    },
    {
      "cell_type": "code",
      "metadata": {
        "id": "RIVGD87YEAqg",
        "colab_type": "code",
        "outputId": "18b5b89d-d501-4df4-806c-06bd49eb81f9",
        "colab": {
          "base_uri": "https://localhost:8080/",
          "height": 34
        }
      },
      "source": [
        "title.startswith(\"a\")"
      ],
      "execution_count": 0,
      "outputs": [
        {
          "output_type": "execute_result",
          "data": {
            "text/plain": [
              "False"
            ]
          },
          "metadata": {
            "tags": []
          },
          "execution_count": 20
        }
      ]
    },
    {
      "cell_type": "code",
      "metadata": {
        "id": "TNwox-MzECsj",
        "colab_type": "code",
        "outputId": "3b10cb3c-d6f3-4340-8aac-958aa2414ceb",
        "colab": {
          "base_uri": "https://localhost:8080/",
          "height": 85
        }
      },
      "source": [
        "print(1, 2, 3)\n",
        "print(\"a\"+\" \"+\"b\"+\" \"+\"c\")\n",
        "print(\"%d %d %d\"%(1, 2, 3))\n",
        "print(\"{}{}{}\".format(\"a\",\"b\",\"c\"))"
      ],
      "execution_count": 0,
      "outputs": [
        {
          "output_type": "stream",
          "text": [
            "1 2 3\n",
            "a b c\n",
            "1 2 3\n",
            "abc\n"
          ],
          "name": "stdout"
        }
      ]
    },
    {
      "cell_type": "code",
      "metadata": {
        "id": "hikt9vlXEQji",
        "colab_type": "code",
        "outputId": "8e8a9066-d50a-46a5-f7b3-8f2e1972015e",
        "colab": {
          "base_uri": "https://localhost:8080/",
          "height": 51
        }
      },
      "source": [
        "print('%s %s'%('one','two'))\n",
        "print(\"%d %d\"%(1, 2))"
      ],
      "execution_count": 0,
      "outputs": [
        {
          "output_type": "stream",
          "text": [
            "one two\n",
            "1 2\n"
          ],
          "name": "stdout"
        }
      ]
    },
    {
      "cell_type": "code",
      "metadata": {
        "id": "p23p1a9rEXbJ",
        "colab_type": "code",
        "outputId": "1b3e73df-e2d9-48c2-949b-c6d24f921674",
        "colab": {
          "base_uri": "https://localhost:8080/",
          "height": 51
        }
      },
      "source": [
        "print(\"I eat %d apples\"%3)\n",
        "print(\"I eat %s apples.\" % \"five\")"
      ],
      "execution_count": 0,
      "outputs": [
        {
          "output_type": "stream",
          "text": [
            "I eat 3 apples\n",
            "I eat five apples.\n"
          ],
          "name": "stdout"
        }
      ]
    },
    {
      "cell_type": "code",
      "metadata": {
        "id": "doi-TD6HEeij",
        "colab_type": "code",
        "outputId": "0fa72b3f-674a-446b-8bbb-a783f5bc2f32",
        "colab": {
          "base_uri": "https://localhost:8080/",
          "height": 34
        }
      },
      "source": [
        "print(\"Product: %s, Price per unit: %f.\" % (\"Apple\", 5.243))"
      ],
      "execution_count": 0,
      "outputs": [
        {
          "output_type": "stream",
          "text": [
            "Product: Apple, Price per unit: 5.243000.\n"
          ],
          "name": "stdout"
        }
      ]
    },
    {
      "cell_type": "code",
      "metadata": {
        "id": "nZA0vnAnEoa7",
        "colab_type": "code",
        "outputId": "ae5f5e75-2687-4577-ff85-8fa002af4ab5",
        "colab": {
          "base_uri": "https://localhost:8080/",
          "height": 34
        }
      },
      "source": [
        "number = 3\n",
        "day = \"three\"\n",
        "print(\"I ate %d apples. I was sick for %s days.\" % (number, day))"
      ],
      "execution_count": 0,
      "outputs": [
        {
          "output_type": "stream",
          "text": [
            "I ate 3 apples. I was sick for three days.\n"
          ],
          "name": "stdout"
        }
      ]
    },
    {
      "cell_type": "code",
      "metadata": {
        "id": "wSNW9tbbEzZ7",
        "colab_type": "code",
        "outputId": "13d963a3-49c3-4237-b0a1-a6b3bd2d8ac5",
        "colab": {
          "base_uri": "https://localhost:8080/",
          "height": 68
        }
      },
      "source": [
        "age = 40; name='Sungchul Choi'\n",
        "print(\"i'm {0} years old.\".format(age))\n",
        "print(\"My name is {0} and {1} years old.\".format(name, age))\n",
        "print(\"Product:{0}, Price per unit:{1:.2f}.\".format(\"Apple\", 5.243))"
      ],
      "execution_count": 0,
      "outputs": [
        {
          "output_type": "stream",
          "text": [
            "i'm 40 years old.\n",
            "My name is Sungchul Choi and 40 years old.\n",
            "Product:Apple, Price per unit:5.24.\n"
          ],
          "name": "stdout"
        }
      ]
    },
    {
      "cell_type": "code",
      "metadata": {
        "id": "OrC7UlWGFIfj",
        "colab_type": "code",
        "outputId": "4dcfdebb-0f23-443b-f140-377120aa532e",
        "colab": {
          "base_uri": "https://localhost:8080/",
          "height": 34
        }
      },
      "source": [
        "print(\"%10d\"%12)"
      ],
      "execution_count": 0,
      "outputs": [
        {
          "output_type": "stream",
          "text": [
            "        12\n"
          ],
          "name": "stdout"
        }
      ]
    },
    {
      "cell_type": "code",
      "metadata": {
        "id": "LC6VIdEVFMx3",
        "colab_type": "code",
        "outputId": "ae8c9955-a6ce-4200-8332-1135db3de170",
        "colab": {
          "base_uri": "https://localhost:8080/",
          "height": 34
        }
      },
      "source": [
        "print(\"%-10d\"%12)"
      ],
      "execution_count": 0,
      "outputs": [
        {
          "output_type": "stream",
          "text": [
            "12        \n"
          ],
          "name": "stdout"
        }
      ]
    },
    {
      "cell_type": "code",
      "metadata": {
        "id": "AAatkkiXFOtG",
        "colab_type": "code",
        "outputId": "df235466-c3fd-40b1-cfa4-bccd40f543a1",
        "colab": {
          "base_uri": "https://localhost:8080/",
          "height": 68
        }
      },
      "source": [
        "print(\"%10.3f\"%5.94343)\n",
        "print(\"%10.2f\"%5.94343)\n",
        "print(\"%-10.2f\"%5.94343)"
      ],
      "execution_count": 0,
      "outputs": [
        {
          "output_type": "stream",
          "text": [
            "     5.943\n",
            "      5.94\n",
            "5.94      \n"
          ],
          "name": "stdout"
        }
      ]
    },
    {
      "cell_type": "code",
      "metadata": {
        "id": "-HFxIHgeFWlg",
        "colab_type": "code",
        "outputId": "2f32dcdf-fecd-4c7d-bfd9-c3af2ef2314c",
        "colab": {
          "base_uri": "https://localhost:8080/",
          "height": 34
        }
      },
      "source": [
        "print(\"{0:>10s}\".format(\"Apple\"))"
      ],
      "execution_count": 0,
      "outputs": [
        {
          "output_type": "stream",
          "text": [
            "     Apple\n"
          ],
          "name": "stdout"
        }
      ]
    },
    {
      "cell_type": "code",
      "metadata": {
        "id": "-6ZtsC1iFc3W",
        "colab_type": "code",
        "outputId": "fb475109-f166-4263-83ee-540e7db39764",
        "colab": {
          "base_uri": "https://localhost:8080/",
          "height": 34
        }
      },
      "source": [
        "print(\"{0:<10s}\".format(\"Apple\"))"
      ],
      "execution_count": 0,
      "outputs": [
        {
          "output_type": "stream",
          "text": [
            "Apple     \n"
          ],
          "name": "stdout"
        }
      ]
    },
    {
      "cell_type": "code",
      "metadata": {
        "id": "RXlYVLxoFe7E",
        "colab_type": "code",
        "outputId": "af1a79a3-dcf5-4a5d-a6b7-45ee79856827",
        "colab": {
          "base_uri": "https://localhost:8080/",
          "height": 68
        }
      },
      "source": [
        "print(\"{1:10.5f}\".format(\"Apple\", 5.243))\n",
        "print(\"{1:>10.5f}\".format(\"Apple\", 5.243))\n",
        "print(\"{1:<10.5f}\".format(\"Apple\", 5.243))"
      ],
      "execution_count": 0,
      "outputs": [
        {
          "output_type": "stream",
          "text": [
            "   5.24300\n",
            "   5.24300\n",
            "5.24300   \n"
          ],
          "name": "stdout"
        }
      ]
    },
    {
      "cell_type": "code",
      "metadata": {
        "id": "bR1nLUc2FsQt",
        "colab_type": "code",
        "outputId": "99438482-2055-4419-fc5a-040d28ec6b78",
        "colab": {
          "base_uri": "https://localhost:8080/",
          "height": 34
        }
      },
      "source": [
        "print(\"Product: %(name)5s, Price per unit: %(price)5.5f\"%{\"name\":\"Apple\", \"price\":5.243})"
      ],
      "execution_count": 0,
      "outputs": [
        {
          "output_type": "stream",
          "text": [
            "Product: Apple, Price per unit: 5.24300\n"
          ],
          "name": "stdout"
        }
      ]
    },
    {
      "cell_type": "code",
      "metadata": {
        "id": "HZYASjxzF9FN",
        "colab_type": "code",
        "outputId": "d9beba05-0c46-44c8-9816-8b21f48ed70a",
        "colab": {
          "base_uri": "https://localhost:8080/",
          "height": 34
        }
      },
      "source": [
        "print(\"Product: {name:>5s}, Price per unit: {price:5.5f}.\".format(name=\"Apple\", price=5.243))"
      ],
      "execution_count": 0,
      "outputs": [
        {
          "output_type": "stream",
          "text": [
            "Product: Apple, Price per unit: 5.24300.\n"
          ],
          "name": "stdout"
        }
      ]
    },
    {
      "cell_type": "code",
      "metadata": {
        "id": "qHH8OXPcGLLp",
        "colab_type": "code",
        "colab": {}
      },
      "source": [
        ""
      ],
      "execution_count": 0,
      "outputs": []
    }
  ]
}