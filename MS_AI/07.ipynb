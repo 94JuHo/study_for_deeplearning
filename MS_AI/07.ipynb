{
  "nbformat": 4,
  "nbformat_minor": 0,
  "metadata": {
    "kernelspec": {
      "display_name": "Python 3",
      "language": "python",
      "name": "python3"
    },
    "language_info": {
      "codemirror_mode": {
        "name": "ipython",
        "version": 3
      },
      "file_extension": ".py",
      "mimetype": "text/x-python",
      "name": "python",
      "nbconvert_exporter": "python",
      "pygments_lexer": "ipython3",
      "version": "3.7.4"
    },
    "colab": {
      "name": "07.ipynb",
      "provenance": [],
      "collapsed_sections": [],
      "include_colab_link": true
    }
  },
  "cells": [
    {
      "cell_type": "markdown",
      "metadata": {
        "id": "view-in-github",
        "colab_type": "text"
      },
      "source": [
        "<a href=\"https://colab.research.google.com/github/94JuHo/study_for_deeplearning/blob/master/MS_AI/07.ipynb\" target=\"_parent\"><img src=\"https://colab.research.google.com/assets/colab-badge.svg\" alt=\"Open In Colab\"/></a>"
      ]
    },
    {
      "cell_type": "code",
      "metadata": {
        "id": "dNrsa0dFGlNL",
        "colab_type": "code",
        "outputId": "b68e98fd-5fa8-48e8-8dbc-96a1f6aec861",
        "colab": {
          "base_uri": "https://localhost:8080/",
          "height": 85
        }
      },
      "source": [
        "word = input (\"Input a word: \")\n",
        "world_list = list(word)\n",
        "print(world_list)\n",
        "\n",
        "result=[]\n",
        "for _ in range(len(world_list)):\n",
        "    result.append (world_list .pop())\n",
        "\n",
        "print(result)\n",
        "print(word[::-1])"
      ],
      "execution_count": 0,
      "outputs": [
        {
          "output_type": "stream",
          "text": [
            "Input a word: PYTHON\n",
            "['P', 'Y', 'T', 'H', 'O', 'N']\n",
            "['N', 'O', 'H', 'T', 'Y', 'P']\n",
            "NOHTYP\n"
          ],
          "name": "stdout"
        }
      ]
    },
    {
      "cell_type": "code",
      "metadata": {
        "id": "oVSeF-KmGlNP",
        "colab_type": "code",
        "outputId": "1e241687-35ed-4adc-aa6a-2a394d69fb67",
        "colab": {
          "base_uri": "https://localhost:8080/",
          "height": 51
        }
      },
      "source": [
        "a = [1, 2, 3, 4, 5]\n",
        "a.append(10)\n",
        "a.append(20)\n",
        "print(a.pop(0))\n",
        "print(a.pop(0))"
      ],
      "execution_count": 0,
      "outputs": [
        {
          "output_type": "stream",
          "text": [
            "1\n",
            "2\n"
          ],
          "name": "stdout"
        }
      ]
    },
    {
      "cell_type": "code",
      "metadata": {
        "id": "HrzPDZTmGlNT",
        "colab_type": "code",
        "outputId": "8a96847e-5100-425c-a3f9-a904af2aba90",
        "colab": {
          "base_uri": "https://localhost:8080/",
          "height": 51
        }
      },
      "source": [
        "t = (1, 2, 3)\n",
        "print (t + t , t * 2)\n",
        "len(t)"
      ],
      "execution_count": 0,
      "outputs": [
        {
          "output_type": "stream",
          "text": [
            "(1, 2, 3, 1, 2, 3) (1, 2, 3, 1, 2, 3)\n"
          ],
          "name": "stdout"
        },
        {
          "output_type": "execute_result",
          "data": {
            "text/plain": [
              "3"
            ]
          },
          "metadata": {
            "tags": []
          },
          "execution_count": 8
        }
      ]
    },
    {
      "cell_type": "code",
      "metadata": {
        "id": "ar04aLEfGlNW",
        "colab_type": "code",
        "outputId": "7a676260-eb6f-4a2b-eaa3-fb1cc1ca5df0",
        "colab": {
          "base_uri": "https://localhost:8080/",
          "height": 164
        }
      },
      "source": [
        "t[1] = 5"
      ],
      "execution_count": 0,
      "outputs": [
        {
          "output_type": "error",
          "ename": "TypeError",
          "evalue": "ignored",
          "traceback": [
            "\u001b[0;31m---------------------------------------------------------------------------\u001b[0m",
            "\u001b[0;31mTypeError\u001b[0m                                 Traceback (most recent call last)",
            "\u001b[0;32m<ipython-input-9-c53026d12066>\u001b[0m in \u001b[0;36m<module>\u001b[0;34m()\u001b[0m\n\u001b[0;32m----> 1\u001b[0;31m \u001b[0mt\u001b[0m\u001b[0;34m[\u001b[0m\u001b[0;36m1\u001b[0m\u001b[0;34m]\u001b[0m \u001b[0;34m=\u001b[0m \u001b[0;36m5\u001b[0m\u001b[0;34m\u001b[0m\u001b[0;34m\u001b[0m\u001b[0m\n\u001b[0m",
            "\u001b[0;31mTypeError\u001b[0m: 'tuple' object does not support item assignment"
          ]
        }
      ]
    },
    {
      "cell_type": "code",
      "metadata": {
        "id": "0HEgAZbzGlNY",
        "colab_type": "code",
        "outputId": "88e20c6a-d68a-41c7-bd8d-944482a44067",
        "colab": {
          "base_uri": "https://localhost:8080/",
          "height": 34
        }
      },
      "source": [
        "s = set([1,2,3,1,2,3])\n",
        "s"
      ],
      "execution_count": 0,
      "outputs": [
        {
          "output_type": "execute_result",
          "data": {
            "text/plain": [
              "{1, 2, 3}"
            ]
          },
          "metadata": {
            "tags": []
          },
          "execution_count": 10
        }
      ]
    },
    {
      "cell_type": "code",
      "metadata": {
        "id": "4PPnnSbrGlNb",
        "colab_type": "code",
        "outputId": "cda9740d-2ad8-4c3e-8b89-96f2dcc41d09",
        "colab": {
          "base_uri": "https://localhost:8080/",
          "height": 136
        }
      },
      "source": [
        "print(s)\n",
        "s.add(1)\n",
        "print(s)\n",
        "s.remove(1)\n",
        "print(s)\n",
        "s.update([1, 4, 5, 6, 7])\n",
        "print(s)\n",
        "s.discard(3)\n",
        "print(s)\n",
        "s.clear()\n",
        "print(s)\n",
        "set()"
      ],
      "execution_count": 0,
      "outputs": [
        {
          "output_type": "stream",
          "text": [
            "{1, 2, 3}\n",
            "{1, 2, 3}\n",
            "{2, 3}\n",
            "{1, 2, 3, 4, 5, 6, 7}\n",
            "{1, 2, 4, 5, 6, 7}\n",
            "set()\n"
          ],
          "name": "stdout"
        },
        {
          "output_type": "execute_result",
          "data": {
            "text/plain": [
              "set()"
            ]
          },
          "metadata": {
            "tags": []
          },
          "execution_count": 11
        }
      ]
    },
    {
      "cell_type": "code",
      "metadata": {
        "id": "42WZuo3lGlNe",
        "colab_type": "code",
        "outputId": "0b097f59-1d55-4f28-8ac5-c3517c9fbfee",
        "colab": {
          "base_uri": "https://localhost:8080/",
          "height": 119
        }
      },
      "source": [
        "s1 = set([1, 2, 3, 4, 5])\n",
        "s2 = set([3, 4, 5, 6 ,7])\n",
        "\n",
        "print(s1.union(s2))\n",
        "print(s1 | s2)\n",
        "print(s1.intersection(s2))\n",
        "print(s1 & s2)\n",
        "print(s1.difference(s2))\n",
        "s1-s2"
      ],
      "execution_count": 0,
      "outputs": [
        {
          "output_type": "stream",
          "text": [
            "{1, 2, 3, 4, 5, 6, 7}\n",
            "{1, 2, 3, 4, 5, 6, 7}\n",
            "{3, 4, 5}\n",
            "{3, 4, 5}\n",
            "{1, 2}\n"
          ],
          "name": "stdout"
        },
        {
          "output_type": "execute_result",
          "data": {
            "text/plain": [
              "{1, 2}"
            ]
          },
          "metadata": {
            "tags": []
          },
          "execution_count": 12
        }
      ]
    },
    {
      "cell_type": "code",
      "metadata": {
        "id": "aSU--oZ4GlNg",
        "colab_type": "code",
        "outputId": "f0df1ba6-40f7-47a3-9785-0a5b86ad900e",
        "colab": {
          "base_uri": "https://localhost:8080/",
          "height": 34
        }
      },
      "source": [
        "student_info = {20140012: 'Sungchul', 20140059: 'Jiyong', 20140058: 'JaeHong'}\n",
        "student_info[20140012]"
      ],
      "execution_count": 0,
      "outputs": [
        {
          "output_type": "execute_result",
          "data": {
            "text/plain": [
              "'Sungchul'"
            ]
          },
          "metadata": {
            "tags": []
          },
          "execution_count": 13
        }
      ]
    },
    {
      "cell_type": "code",
      "metadata": {
        "id": "ppNuBC1mGlNi",
        "colab_type": "code",
        "outputId": "438d1d50-7bea-4bda-b95f-807b7252b110",
        "colab": {
          "base_uri": "https://localhost:8080/",
          "height": 85
        }
      },
      "source": [
        "student_info[20140012] = 'Janhyeok'\n",
        "student_info[20140012]\n",
        "student_info[20140039] = 'Wonchul'\n",
        "student_info"
      ],
      "execution_count": 0,
      "outputs": [
        {
          "output_type": "execute_result",
          "data": {
            "text/plain": [
              "{20140012: 'Janhyeok',\n",
              " 20140039: 'Wonchul',\n",
              " 20140058: 'JaeHong',\n",
              " 20140059: 'Jiyong'}"
            ]
          },
          "metadata": {
            "tags": []
          },
          "execution_count": 14
        }
      ]
    },
    {
      "cell_type": "code",
      "metadata": {
        "id": "w08QqmAUGlNj",
        "colab_type": "code",
        "outputId": "5a2352c1-2260-4ac5-b2cc-1b76a1421c01",
        "colab": {
          "base_uri": "https://localhost:8080/",
          "height": 34
        }
      },
      "source": [
        "country_code = {}\n",
        "country_code = {\"America\": 1, \"Korea\": 82, \"China\": 86, \"Japan\": 81}\n",
        "country_code"
      ],
      "execution_count": 0,
      "outputs": [
        {
          "output_type": "execute_result",
          "data": {
            "text/plain": [
              "{'America': 1, 'China': 86, 'Japan': 81, 'Korea': 82}"
            ]
          },
          "metadata": {
            "tags": []
          },
          "execution_count": 15
        }
      ]
    },
    {
      "cell_type": "code",
      "metadata": {
        "id": "Wt5lnrMEGlNl",
        "colab_type": "code",
        "outputId": "9625ca8d-181e-454a-8dac-71d7ccbfd9c6",
        "colab": {
          "base_uri": "https://localhost:8080/",
          "height": 34
        }
      },
      "source": [
        "country_code.keys()"
      ],
      "execution_count": 0,
      "outputs": [
        {
          "output_type": "execute_result",
          "data": {
            "text/plain": [
              "dict_keys(['America', 'Korea', 'China', 'Japan'])"
            ]
          },
          "metadata": {
            "tags": []
          },
          "execution_count": 16
        }
      ]
    },
    {
      "cell_type": "code",
      "metadata": {
        "id": "dclRRbMDGlNn",
        "colab_type": "code",
        "outputId": "8b9a5704-7039-4437-ea83-dc45be97aeb1",
        "colab": {
          "base_uri": "https://localhost:8080/",
          "height": 34
        }
      },
      "source": [
        "country_code[\"German\"] = 49\n",
        "country_code\n",
        "country_code.values()"
      ],
      "execution_count": 0,
      "outputs": [
        {
          "output_type": "execute_result",
          "data": {
            "text/plain": [
              "dict_values([1, 82, 86, 81, 49])"
            ]
          },
          "metadata": {
            "tags": []
          },
          "execution_count": 17
        }
      ]
    },
    {
      "cell_type": "code",
      "metadata": {
        "id": "9AMzPVZMGlNp",
        "colab_type": "code",
        "outputId": "f0a7e991-b601-4872-aede-69f0a0dc8040",
        "colab": {
          "base_uri": "https://localhost:8080/",
          "height": 34
        }
      },
      "source": [
        "country_code.items()"
      ],
      "execution_count": 0,
      "outputs": [
        {
          "output_type": "execute_result",
          "data": {
            "text/plain": [
              "dict_items([('America', 1), ('Korea', 82), ('China', 86), ('Japan', 81), ('German', 49)])"
            ]
          },
          "metadata": {
            "tags": []
          },
          "execution_count": 18
        }
      ]
    },
    {
      "cell_type": "code",
      "metadata": {
        "id": "flyHZ8ggGlNq",
        "colab_type": "code",
        "outputId": "a7a3d189-92f9-4edc-e276-0bc71fcfdfa6",
        "colab": {
          "base_uri": "https://localhost:8080/",
          "height": 187
        }
      },
      "source": [
        "for k, v in country_code.items():\n",
        "    print(\"Key:\", k)\n",
        "    print(\"Value:\", v)"
      ],
      "execution_count": 0,
      "outputs": [
        {
          "output_type": "stream",
          "text": [
            "Key: America\n",
            "Value: 1\n",
            "Key: Korea\n",
            "Value: 82\n",
            "Key: China\n",
            "Value: 86\n",
            "Key: Japan\n",
            "Value: 81\n",
            "Key: German\n",
            "Value: 49\n"
          ],
          "name": "stdout"
        }
      ]
    },
    {
      "cell_type": "code",
      "metadata": {
        "id": "eg6qOnlsGlNr",
        "colab_type": "code",
        "outputId": "dd772309-d6c0-4b15-9a85-b6625ba587b2",
        "colab": {
          "base_uri": "https://localhost:8080/",
          "height": 34
        }
      },
      "source": [
        "\"Korea\" in country_code.keys()"
      ],
      "execution_count": 0,
      "outputs": [
        {
          "output_type": "execute_result",
          "data": {
            "text/plain": [
              "True"
            ]
          },
          "metadata": {
            "tags": []
          },
          "execution_count": 20
        }
      ]
    },
    {
      "cell_type": "code",
      "metadata": {
        "id": "LZAOj_51GlNs",
        "colab_type": "code",
        "outputId": "8ddd3ce8-6a77-44b8-e89b-5928148c76cb",
        "colab": {
          "base_uri": "https://localhost:8080/",
          "height": 34
        }
      },
      "source": [
        "82 in country_code.values()"
      ],
      "execution_count": 0,
      "outputs": [
        {
          "output_type": "execute_result",
          "data": {
            "text/plain": [
              "True"
            ]
          },
          "metadata": {
            "tags": []
          },
          "execution_count": 21
        }
      ]
    },
    {
      "cell_type": "code",
      "metadata": {
        "id": "-0h6CYd8GlNt",
        "colab_type": "code",
        "colab": {}
      },
      "source": [
        "from collections import deque\n",
        "from collections import OrderedDict\n",
        "from collections import defaultdict\n",
        "from collections import Counter\n",
        "from collections import namedtuple"
      ],
      "execution_count": 0,
      "outputs": []
    },
    {
      "cell_type": "code",
      "metadata": {
        "id": "eyQ1fVkTGlNu",
        "colab_type": "code",
        "colab": {}
      },
      "source": [
        "deque_list = deque()\n",
        "for i in range(5):\n",
        "    deque_list.append(i)"
      ],
      "execution_count": 0,
      "outputs": []
    },
    {
      "cell_type": "code",
      "metadata": {
        "id": "u-1IIzwvGlNv",
        "colab_type": "code",
        "outputId": "92ea6360-d1f9-4871-e466-bc50055337ab",
        "colab": {
          "base_uri": "https://localhost:8080/",
          "height": 34
        }
      },
      "source": [
        "print(deque_list)"
      ],
      "execution_count": 0,
      "outputs": [
        {
          "output_type": "stream",
          "text": [
            "deque([0, 1, 2, 3, 4])\n"
          ],
          "name": "stdout"
        }
      ]
    },
    {
      "cell_type": "code",
      "metadata": {
        "id": "PeNgSrqbGlNw",
        "colab_type": "code",
        "outputId": "697ebe4e-28b1-4750-9e60-d0b239dabbfa",
        "colab": {
          "base_uri": "https://localhost:8080/",
          "height": 85
        }
      },
      "source": [
        "print(deque_list.pop())\n",
        "print(deque_list.pop())\n",
        "print(deque_list.pop())\n",
        "deque_list"
      ],
      "execution_count": 0,
      "outputs": [
        {
          "output_type": "stream",
          "text": [
            "4\n",
            "3\n",
            "2\n"
          ],
          "name": "stdout"
        },
        {
          "output_type": "execute_result",
          "data": {
            "text/plain": [
              "deque([0, 1])"
            ]
          },
          "metadata": {
            "tags": []
          },
          "execution_count": 25
        }
      ]
    },
    {
      "cell_type": "code",
      "metadata": {
        "id": "AQ3VBR4AGlNx",
        "colab_type": "code",
        "outputId": "4330b83f-4b44-47cd-ed4e-7b869ebc310e",
        "colab": {
          "base_uri": "https://localhost:8080/",
          "height": 34
        }
      },
      "source": [
        "deque_list = deque()\n",
        "for i in range(5):\n",
        "    deque_list.appendleft(i)\n",
        "print(deque_list)"
      ],
      "execution_count": 0,
      "outputs": [
        {
          "output_type": "stream",
          "text": [
            "deque([4, 3, 2, 1, 0])\n"
          ],
          "name": "stdout"
        }
      ]
    },
    {
      "cell_type": "code",
      "metadata": {
        "id": "fkjiaOVXGlNy",
        "colab_type": "code",
        "outputId": "4c124a05-44c1-45ed-8227-fdc8c75e64d6",
        "colab": {
          "base_uri": "https://localhost:8080/",
          "height": 68
        }
      },
      "source": [
        "deque_list = deque()\n",
        "for i in range(5):\n",
        "    deque_list.appendleft(i)\n",
        "print(deque_list)\n",
        "deque_list.rotate(2)\n",
        "print(deque_list)\n",
        "deque_list.rotate(2)\n",
        "print(deque_list)"
      ],
      "execution_count": 0,
      "outputs": [
        {
          "output_type": "stream",
          "text": [
            "deque([4, 3, 2, 1, 0])\n",
            "deque([1, 0, 4, 3, 2])\n",
            "deque([3, 2, 1, 0, 4])\n"
          ],
          "name": "stdout"
        }
      ]
    },
    {
      "cell_type": "code",
      "metadata": {
        "id": "ntlijRcxGlNz",
        "colab_type": "code",
        "outputId": "ea08f751-3956-430e-cece-558d5573119c",
        "colab": {
          "base_uri": "https://localhost:8080/",
          "height": 34
        }
      },
      "source": [
        "print(deque(reversed(deque_list)))"
      ],
      "execution_count": 0,
      "outputs": [
        {
          "output_type": "stream",
          "text": [
            "deque([4, 0, 1, 2, 3])\n"
          ],
          "name": "stdout"
        }
      ]
    },
    {
      "cell_type": "code",
      "metadata": {
        "id": "nMKkCVdbGlN0",
        "colab_type": "code",
        "outputId": "5cb8479d-5892-476d-c516-4e8a769ad01b",
        "colab": {
          "base_uri": "https://localhost:8080/",
          "height": 51
        }
      },
      "source": [
        "deque_list.extend([5,6,7])\n",
        "print(deque_list)\n",
        "deque_list.extendleft([5,6,7])\n",
        "print(deque_list)"
      ],
      "execution_count": 0,
      "outputs": [
        {
          "output_type": "stream",
          "text": [
            "deque([3, 2, 1, 0, 4, 5, 6, 7])\n",
            "deque([7, 6, 5, 3, 2, 1, 0, 4, 5, 6, 7])\n"
          ],
          "name": "stdout"
        }
      ]
    },
    {
      "cell_type": "code",
      "metadata": {
        "id": "XS0ARmFOGlN1",
        "colab_type": "code",
        "outputId": "13d5bb2c-a475-4042-8547-8c8c177ad372",
        "colab": {
          "base_uri": "https://localhost:8080/",
          "height": 85
        }
      },
      "source": [
        "d = {}\n",
        "d['x'] = 100\n",
        "d['l'] = 500\n",
        "d['y'] = 200\n",
        "d['z'] = 300\n",
        "\n",
        "for k, v in d.items():\n",
        "    print(k, v)\n"
      ],
      "execution_count": 0,
      "outputs": [
        {
          "output_type": "stream",
          "text": [
            "x 100\n",
            "l 500\n",
            "y 200\n",
            "z 300\n"
          ],
          "name": "stdout"
        }
      ]
    },
    {
      "cell_type": "code",
      "metadata": {
        "id": "NemClOAFGlN2",
        "colab_type": "code",
        "outputId": "15f2c23e-d53d-4060-807f-161e4240732b",
        "colab": {
          "base_uri": "https://localhost:8080/",
          "height": 85
        }
      },
      "source": [
        "d = OrderedDict()\n",
        "d['x'] = 100\n",
        "d['y'] = 200\n",
        "d['z'] = 300\n",
        "d['l'] = 500\n",
        "\n",
        "for k, v in d.items():\n",
        "    print(k, v)\n"
      ],
      "execution_count": 0,
      "outputs": [
        {
          "output_type": "stream",
          "text": [
            "x 100\n",
            "y 200\n",
            "z 300\n",
            "l 500\n"
          ],
          "name": "stdout"
        }
      ]
    },
    {
      "cell_type": "code",
      "metadata": {
        "id": "Qud0BmOjGlN2",
        "colab_type": "code",
        "outputId": "9e6cddc7-895b-4de1-c068-591a449a0b31",
        "colab": {
          "base_uri": "https://localhost:8080/",
          "height": 85
        }
      },
      "source": [
        "def sort_by_key(t):\n",
        "    return t[0]\n",
        "\n",
        "d = dict()\n",
        "d['x'] = 100\n",
        "d['y'] = 200\n",
        "d['z'] = 300\n",
        "d['l'] = 500\n",
        "\n",
        "for k, v in OrderedDict(sorted(d.items(), key=sort_by_key)).items():\n",
        "    print(k, v)\n"
      ],
      "execution_count": 0,
      "outputs": [
        {
          "output_type": "stream",
          "text": [
            "l 500\n",
            "x 100\n",
            "y 200\n",
            "z 300\n"
          ],
          "name": "stdout"
        }
      ]
    },
    {
      "cell_type": "code",
      "metadata": {
        "id": "lz6rDEleGlN3",
        "colab_type": "code",
        "outputId": "8848fede-8911-475e-ac6c-58ebcc0cc235",
        "colab": {
          "base_uri": "https://localhost:8080/",
          "height": 181
        }
      },
      "source": [
        "d = dict()\n",
        "print(d[\"first\"])\n"
      ],
      "execution_count": 0,
      "outputs": [
        {
          "output_type": "error",
          "ename": "KeyError",
          "evalue": "ignored",
          "traceback": [
            "\u001b[0;31m---------------------------------------------------------------------------\u001b[0m",
            "\u001b[0;31mKeyError\u001b[0m                                  Traceback (most recent call last)",
            "\u001b[0;32m<ipython-input-33-3b4ee8f5b4c3>\u001b[0m in \u001b[0;36m<module>\u001b[0;34m()\u001b[0m\n\u001b[1;32m      1\u001b[0m \u001b[0md\u001b[0m \u001b[0;34m=\u001b[0m \u001b[0mdict\u001b[0m\u001b[0;34m(\u001b[0m\u001b[0;34m)\u001b[0m\u001b[0;34m\u001b[0m\u001b[0;34m\u001b[0m\u001b[0m\n\u001b[0;32m----> 2\u001b[0;31m \u001b[0mprint\u001b[0m\u001b[0;34m(\u001b[0m\u001b[0md\u001b[0m\u001b[0;34m[\u001b[0m\u001b[0;34m\"first\"\u001b[0m\u001b[0;34m]\u001b[0m\u001b[0;34m)\u001b[0m\u001b[0;34m\u001b[0m\u001b[0;34m\u001b[0m\u001b[0m\n\u001b[0m",
            "\u001b[0;31mKeyError\u001b[0m: 'first'"
          ]
        }
      ]
    },
    {
      "cell_type": "code",
      "metadata": {
        "id": "MIowra7gGlN4",
        "colab_type": "code",
        "outputId": "031bb2a3-6575-4f1c-8eba-bd12e091a4ed",
        "colab": {
          "base_uri": "https://localhost:8080/",
          "height": 34
        }
      },
      "source": [
        "d = defaultdict(lambda: 0)\n",
        "print(d[\"first\"])\n"
      ],
      "execution_count": 0,
      "outputs": [
        {
          "output_type": "stream",
          "text": [
            "0\n"
          ],
          "name": "stdout"
        }
      ]
    },
    {
      "cell_type": "code",
      "metadata": {
        "id": "kkxlBkZjGlN5",
        "colab_type": "code",
        "outputId": "e2d6fd69-5c73-416c-f70d-1775ca6b0b36",
        "colab": {
          "base_uri": "https://localhost:8080/",
          "height": 51
        }
      },
      "source": [
        "s = [('yellow', 1), ('blue', 2), ('yellow', 3), ('blue', 4), ('red', 1)]\n",
        "d = defaultdict(list)\n",
        "for k, v in s:\n",
        "    d[k].append(v)\n",
        "\n",
        "print(d.items())\n",
        "[('blue', [2, 4]), ('red', [1]), ('yellow', [1, 3])]\n"
      ],
      "execution_count": 0,
      "outputs": [
        {
          "output_type": "stream",
          "text": [
            "dict_items([('yellow', [1, 3]), ('blue', [2, 4]), ('red', [1])])\n"
          ],
          "name": "stdout"
        },
        {
          "output_type": "execute_result",
          "data": {
            "text/plain": [
              "[('blue', [2, 4]), ('red', [1]), ('yellow', [1, 3])]"
            ]
          },
          "metadata": {
            "tags": []
          },
          "execution_count": 35
        }
      ]
    },
    {
      "cell_type": "code",
      "metadata": {
        "id": "Vx7LNvWhGlN5",
        "colab_type": "code",
        "outputId": "e0c613b3-b6e7-40ec-dd90-3227fde91925",
        "colab": {
          "base_uri": "https://localhost:8080/",
          "height": 714
        }
      },
      "source": [
        "text = \"\"\"A press re lease is the quickest and easiest way to get free\n",
        "publicity. If we 11 written, a press re lease can result i n multiple published\n",
        "articles about your firm and its products. And that can mean new prospects\n",
        "contacting you asking you to se 11 to them. · · ·.\"\"\".lower().split()\n",
        "Counter(text)"
      ],
      "execution_count": 0,
      "outputs": [
        {
          "output_type": "execute_result",
          "data": {
            "text/plain": [
              "Counter({'11': 2,\n",
              "         'a': 2,\n",
              "         'about': 1,\n",
              "         'and': 3,\n",
              "         'articles': 1,\n",
              "         'asking': 1,\n",
              "         'can': 2,\n",
              "         'contacting': 1,\n",
              "         'easiest': 1,\n",
              "         'firm': 1,\n",
              "         'free': 1,\n",
              "         'get': 1,\n",
              "         'i': 1,\n",
              "         'if': 1,\n",
              "         'is': 1,\n",
              "         'its': 1,\n",
              "         'lease': 2,\n",
              "         'mean': 1,\n",
              "         'multiple': 1,\n",
              "         'n': 1,\n",
              "         'new': 1,\n",
              "         'press': 2,\n",
              "         'products.': 1,\n",
              "         'prospects': 1,\n",
              "         'publicity.': 1,\n",
              "         'published': 1,\n",
              "         'quickest': 1,\n",
              "         're': 2,\n",
              "         'result': 1,\n",
              "         'se': 1,\n",
              "         'that': 1,\n",
              "         'the': 1,\n",
              "         'them.': 1,\n",
              "         'to': 3,\n",
              "         'way': 1,\n",
              "         'we': 1,\n",
              "         'written,': 1,\n",
              "         'you': 2,\n",
              "         'your': 1,\n",
              "         '·': 2,\n",
              "         '·.': 1})"
            ]
          },
          "metadata": {
            "tags": []
          },
          "execution_count": 36
        }
      ]
    },
    {
      "cell_type": "code",
      "metadata": {
        "id": "6zw1BDkeGlN6",
        "colab_type": "code",
        "outputId": "1bf924b6-5c1e-4ce5-c397-6c2496abd13a",
        "colab": {
          "base_uri": "https://localhost:8080/",
          "height": 51
        }
      },
      "source": [
        "c = Counter({'red': 4, 'blue ': 2})\n",
        "print(c)\n",
        "Counter({'red': 4, 'blue': 2})\n",
        "print(list(c.elements()))"
      ],
      "execution_count": 0,
      "outputs": [
        {
          "output_type": "stream",
          "text": [
            "Counter({'red': 4, 'blue ': 2})\n",
            "['red', 'red', 'red', 'red', 'blue ', 'blue ']\n"
          ],
          "name": "stdout"
        }
      ]
    },
    {
      "cell_type": "code",
      "metadata": {
        "id": "Zl90sq6LGlN7",
        "colab_type": "code",
        "outputId": "6dddac82-fcb2-4574-b8e4-80030ed6950d",
        "colab": {
          "base_uri": "https://localhost:8080/",
          "height": 51
        }
      },
      "source": [
        "c = Counter(cats = 4, dogs = 8)\n",
        "print (c)\n",
        "Counter({'dogs': 8, 'cats ': 4})\n",
        "print (list (c.elements()))"
      ],
      "execution_count": 0,
      "outputs": [
        {
          "output_type": "stream",
          "text": [
            "Counter({'dogs': 8, 'cats': 4})\n",
            "['cats', 'cats', 'cats', 'cats', 'dogs', 'dogs', 'dogs', 'dogs', 'dogs', 'dogs', 'dogs', 'dogs']\n"
          ],
          "name": "stdout"
        }
      ]
    },
    {
      "cell_type": "code",
      "metadata": {
        "id": "0HYDFf8dGlN8",
        "colab_type": "code",
        "outputId": "a8072586-90fc-41dc-e168-1fdb2e8408df",
        "colab": {
          "base_uri": "https://localhost:8080/",
          "height": 34
        }
      },
      "source": [
        "c = Counter(a = 4, b = 2, c = 0, d = -2)\n",
        "d = Counter(a = 1, b = 2, c = 3, d = 4)\n",
        "c.subtract(d)\n",
        "c"
      ],
      "execution_count": 0,
      "outputs": [
        {
          "output_type": "execute_result",
          "data": {
            "text/plain": [
              "Counter({'a': 3, 'b': 0, 'c': -3, 'd': -6})"
            ]
          },
          "metadata": {
            "tags": []
          },
          "execution_count": 39
        }
      ]
    },
    {
      "cell_type": "code",
      "metadata": {
        "id": "zwmeKGn8GlN9",
        "colab_type": "code",
        "outputId": "67086da1-cb3c-498f-91e7-ec13e5c92f49",
        "colab": {
          "base_uri": "https://localhost:8080/",
          "height": 68
        }
      },
      "source": [
        "c=Counter(a =4, b =2, c =0, d =-2)\n",
        "d=Counter(a =1, b =2, c =3, d =4)\n",
        "print(c + d)\n",
        "print(c & d)\n",
        "print(c | d)"
      ],
      "execution_count": 0,
      "outputs": [
        {
          "output_type": "stream",
          "text": [
            "Counter({'a': 5, 'b': 4, 'c': 3, 'd': 2})\n",
            "Counter({'b': 2, 'a': 1})\n",
            "Counter({'a': 4, 'd': 4, 'c': 3, 'b': 2})\n"
          ],
          "name": "stdout"
        }
      ]
    },
    {
      "cell_type": "code",
      "metadata": {
        "id": "L8Il6LFlGlN9",
        "colab_type": "code",
        "outputId": "b54f6597-47ac-4af8-82bc-eab150182d79",
        "colab": {
          "base_uri": "https://localhost:8080/",
          "height": 51
        }
      },
      "source": [
        "Point = namedtuple('Point', ['x', 'y'])\n",
        "p = Point(11, y=22)\n",
        "print(p)\n",
        "print(p[0] + p[1])"
      ],
      "execution_count": 0,
      "outputs": [
        {
          "output_type": "stream",
          "text": [
            "Point(x=11, y=22)\n",
            "33\n"
          ],
          "name": "stdout"
        }
      ]
    },
    {
      "cell_type": "code",
      "metadata": {
        "id": "co2DTPZYGlN-",
        "colab_type": "code",
        "colab": {}
      },
      "source": [
        ""
      ],
      "execution_count": 0,
      "outputs": []
    }
  ]
}